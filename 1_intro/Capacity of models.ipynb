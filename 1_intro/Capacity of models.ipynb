{
 "cells": [
  {
   "metadata": {},
   "cell_type": "code",
   "outputs": [],
   "execution_count": null,
   "source": "# https://www.geeksforgeeks.org/vapnik-chervonenkis-dimension/",
   "id": "6b012c94e556c3f1"
  },
  {
   "metadata": {
    "ExecuteTime": {
     "end_time": "2025-02-17T07:44:23.995527Z",
     "start_time": "2025-02-17T07:44:23.980670Z"
    }
   },
   "cell_type": "code",
   "source": [
    "n=4\n",
    "points = [(i, j) for i in range(n) for j in range(2)] "
   ],
   "id": "d13de9393d0928f4",
   "outputs": [],
   "execution_count": 2
  },
  {
   "metadata": {
    "ExecuteTime": {
     "end_time": "2025-02-17T07:44:31.466869Z",
     "start_time": "2025-02-17T07:44:31.435175Z"
    }
   },
   "cell_type": "code",
   "source": "points",
   "id": "421cb453eed4e99e",
   "outputs": [
    {
     "data": {
      "text/plain": [
       "[(0, 0), (0, 1), (1, 0), (1, 1), (2, 0), (2, 1), (3, 0), (3, 1)]"
      ]
     },
     "execution_count": 3,
     "metadata": {},
     "output_type": "execute_result"
    }
   ],
   "execution_count": 3
  },
  {
   "metadata": {
    "ExecuteTime": {
     "end_time": "2025-02-17T07:58:11.135013Z",
     "start_time": "2025-02-17T07:58:11.071858Z"
    }
   },
   "cell_type": "code",
   "source": "import itertools ",
   "id": "6d0693da6e23aa86",
   "outputs": [],
   "execution_count": 4
  },
  {
   "metadata": {
    "ExecuteTime": {
     "end_time": "2025-02-17T07:58:23.289065Z",
     "start_time": "2025-02-17T07:58:23.244749Z"
    }
   },
   "cell_type": "code",
   "source": "list(itertools.combinations(points, n))",
   "id": "9576cdf1827aa977",
   "outputs": [
    {
     "data": {
      "text/plain": [
       "[((0, 0), (0, 1), (1, 0), (1, 1)),\n",
       " ((0, 0), (0, 1), (1, 0), (2, 0)),\n",
       " ((0, 0), (0, 1), (1, 0), (2, 1)),\n",
       " ((0, 0), (0, 1), (1, 0), (3, 0)),\n",
       " ((0, 0), (0, 1), (1, 0), (3, 1)),\n",
       " ((0, 0), (0, 1), (1, 1), (2, 0)),\n",
       " ((0, 0), (0, 1), (1, 1), (2, 1)),\n",
       " ((0, 0), (0, 1), (1, 1), (3, 0)),\n",
       " ((0, 0), (0, 1), (1, 1), (3, 1)),\n",
       " ((0, 0), (0, 1), (2, 0), (2, 1)),\n",
       " ((0, 0), (0, 1), (2, 0), (3, 0)),\n",
       " ((0, 0), (0, 1), (2, 0), (3, 1)),\n",
       " ((0, 0), (0, 1), (2, 1), (3, 0)),\n",
       " ((0, 0), (0, 1), (2, 1), (3, 1)),\n",
       " ((0, 0), (0, 1), (3, 0), (3, 1)),\n",
       " ((0, 0), (1, 0), (1, 1), (2, 0)),\n",
       " ((0, 0), (1, 0), (1, 1), (2, 1)),\n",
       " ((0, 0), (1, 0), (1, 1), (3, 0)),\n",
       " ((0, 0), (1, 0), (1, 1), (3, 1)),\n",
       " ((0, 0), (1, 0), (2, 0), (2, 1)),\n",
       " ((0, 0), (1, 0), (2, 0), (3, 0)),\n",
       " ((0, 0), (1, 0), (2, 0), (3, 1)),\n",
       " ((0, 0), (1, 0), (2, 1), (3, 0)),\n",
       " ((0, 0), (1, 0), (2, 1), (3, 1)),\n",
       " ((0, 0), (1, 0), (3, 0), (3, 1)),\n",
       " ((0, 0), (1, 1), (2, 0), (2, 1)),\n",
       " ((0, 0), (1, 1), (2, 0), (3, 0)),\n",
       " ((0, 0), (1, 1), (2, 0), (3, 1)),\n",
       " ((0, 0), (1, 1), (2, 1), (3, 0)),\n",
       " ((0, 0), (1, 1), (2, 1), (3, 1)),\n",
       " ((0, 0), (1, 1), (3, 0), (3, 1)),\n",
       " ((0, 0), (2, 0), (2, 1), (3, 0)),\n",
       " ((0, 0), (2, 0), (2, 1), (3, 1)),\n",
       " ((0, 0), (2, 0), (3, 0), (3, 1)),\n",
       " ((0, 0), (2, 1), (3, 0), (3, 1)),\n",
       " ((0, 1), (1, 0), (1, 1), (2, 0)),\n",
       " ((0, 1), (1, 0), (1, 1), (2, 1)),\n",
       " ((0, 1), (1, 0), (1, 1), (3, 0)),\n",
       " ((0, 1), (1, 0), (1, 1), (3, 1)),\n",
       " ((0, 1), (1, 0), (2, 0), (2, 1)),\n",
       " ((0, 1), (1, 0), (2, 0), (3, 0)),\n",
       " ((0, 1), (1, 0), (2, 0), (3, 1)),\n",
       " ((0, 1), (1, 0), (2, 1), (3, 0)),\n",
       " ((0, 1), (1, 0), (2, 1), (3, 1)),\n",
       " ((0, 1), (1, 0), (3, 0), (3, 1)),\n",
       " ((0, 1), (1, 1), (2, 0), (2, 1)),\n",
       " ((0, 1), (1, 1), (2, 0), (3, 0)),\n",
       " ((0, 1), (1, 1), (2, 0), (3, 1)),\n",
       " ((0, 1), (1, 1), (2, 1), (3, 0)),\n",
       " ((0, 1), (1, 1), (2, 1), (3, 1)),\n",
       " ((0, 1), (1, 1), (3, 0), (3, 1)),\n",
       " ((0, 1), (2, 0), (2, 1), (3, 0)),\n",
       " ((0, 1), (2, 0), (2, 1), (3, 1)),\n",
       " ((0, 1), (2, 0), (3, 0), (3, 1)),\n",
       " ((0, 1), (2, 1), (3, 0), (3, 1)),\n",
       " ((1, 0), (1, 1), (2, 0), (2, 1)),\n",
       " ((1, 0), (1, 1), (2, 0), (3, 0)),\n",
       " ((1, 0), (1, 1), (2, 0), (3, 1)),\n",
       " ((1, 0), (1, 1), (2, 1), (3, 0)),\n",
       " ((1, 0), (1, 1), (2, 1), (3, 1)),\n",
       " ((1, 0), (1, 1), (3, 0), (3, 1)),\n",
       " ((1, 0), (2, 0), (2, 1), (3, 0)),\n",
       " ((1, 0), (2, 0), (2, 1), (3, 1)),\n",
       " ((1, 0), (2, 0), (3, 0), (3, 1)),\n",
       " ((1, 0), (2, 1), (3, 0), (3, 1)),\n",
       " ((1, 1), (2, 0), (2, 1), (3, 0)),\n",
       " ((1, 1), (2, 0), (2, 1), (3, 1)),\n",
       " ((1, 1), (2, 0), (3, 0), (3, 1)),\n",
       " ((1, 1), (2, 1), (3, 0), (3, 1)),\n",
       " ((2, 0), (2, 1), (3, 0), (3, 1))]"
      ]
     },
     "execution_count": 6,
     "metadata": {},
     "output_type": "execute_result"
    }
   ],
   "execution_count": 6
  },
  {
   "metadata": {
    "ExecuteTime": {
     "end_time": "2025-02-17T07:59:04.556857Z",
     "start_time": "2025-02-17T07:59:04.528775Z"
    }
   },
   "cell_type": "code",
   "source": "list(itertools.product([0, 1], repeat=n))",
   "id": "72190519b41c5f54",
   "outputs": [
    {
     "data": {
      "text/plain": [
       "[(0, 0, 0, 0),\n",
       " (0, 0, 0, 1),\n",
       " (0, 0, 1, 0),\n",
       " (0, 0, 1, 1),\n",
       " (0, 1, 0, 0),\n",
       " (0, 1, 0, 1),\n",
       " (0, 1, 1, 0),\n",
       " (0, 1, 1, 1),\n",
       " (1, 0, 0, 0),\n",
       " (1, 0, 0, 1),\n",
       " (1, 0, 1, 0),\n",
       " (1, 0, 1, 1),\n",
       " (1, 1, 0, 0),\n",
       " (1, 1, 0, 1),\n",
       " (1, 1, 1, 0),\n",
       " (1, 1, 1, 1)]"
      ]
     },
     "execution_count": 7,
     "metadata": {},
     "output_type": "execute_result"
    }
   ],
   "execution_count": 7
  },
  {
   "metadata": {
    "ExecuteTime": {
     "end_time": "2025-02-17T08:07:37.783108Z",
     "start_time": "2025-02-17T08:07:37.704254Z"
    }
   },
   "cell_type": "code",
   "source": [
    "\n",
    "\n",
    "def vc_dimension(hypothesis_set): \n",
    "\t\"\"\" \n",
    "\tEstimates the VC dimension of a hypothesis set using the brute-force approach. \n",
    "\t\"\"\"\n",
    "\tn = 4\n",
    "\twhile True: \n",
    "\t\tpoints = [(i, j) for i in range(n) for j in range(2)] \n",
    "\t\tshattered_sets = 0\n",
    "\t\tfor combination in itertools.combinations(points, n): \n",
    "\t\t\tis_shattered = True\n",
    "\t\t\tfor labeling in itertools.product([0, 1], repeat=n): \n",
    "\t\t\t\thypotheses = [hypothesis_set(point) for point in combination] \n",
    "\t\t\t\tif set(hypotheses) != set(labeling): \n",
    "\t\t\t\t\tis_shattered = False\n",
    "\t\t\t\t\tbreak\n",
    "\t\t\tif is_shattered: \n",
    "\t\t\t\tshattered_sets += 1\n",
    "\t\t\telse: \n",
    "\t\t\t\tbreak\n",
    "\t\tif not is_shattered: \n",
    "\t\t\tbreak\n",
    "\t\tn += 1\n",
    "\treturn n-1 if shattered_sets == 2**n else n-2\n",
    "\n",
    "\n",
    "# Example 1: linear function hypothesis set \n",
    "def linear_function(point): \n",
    "\tx, y = point \n",
    "\treturn int(y >= x) \n",
    "\n",
    "\n",
    "print(vc_dimension(linear_function)) \n"
   ],
   "id": "1a5cd153447432a0",
   "outputs": [
    {
     "name": "stdout",
     "output_type": "stream",
     "text": [
      "3\n"
     ]
    }
   ],
   "execution_count": 11
  },
  {
   "metadata": {
    "ExecuteTime": {
     "end_time": "2025-02-17T08:01:14.362785Z",
     "start_time": "2025-02-17T08:01:13.437927Z"
    }
   },
   "cell_type": "code",
   "source": [
    "  \n",
    "# Example 2: quadratic function hypothesis set \n",
    "def quadratic_function(point): \n",
    "    x, y = point \n",
    "    return int(y >= x**2) \n",
    "print(vc_dimension(quadratic_function)) \n"
   ],
   "id": "5138df9daac21a6e",
   "outputs": [
    {
     "ename": "NameError",
     "evalue": "name 'vc_dimension' is not defined",
     "output_type": "error",
     "traceback": [
      "\u001B[1;31m---------------------------------------------------------------------------\u001B[0m",
      "\u001B[1;31mNameError\u001B[0m                                 Traceback (most recent call last)",
      "Cell \u001B[1;32mIn[8], line 5\u001B[0m\n\u001B[0;32m      3\u001B[0m     x, y \u001B[38;5;241m=\u001B[39m point \n\u001B[0;32m      4\u001B[0m     \u001B[38;5;28;01mreturn\u001B[39;00m \u001B[38;5;28mint\u001B[39m(y \u001B[38;5;241m>\u001B[39m\u001B[38;5;241m=\u001B[39m x\u001B[38;5;241m*\u001B[39m\u001B[38;5;241m*\u001B[39m\u001B[38;5;241m2\u001B[39m) \n\u001B[1;32m----> 5\u001B[0m \u001B[38;5;28mprint\u001B[39m(\u001B[43mvc_dimension\u001B[49m(quadratic_function))\n",
      "\u001B[1;31mNameError\u001B[0m: name 'vc_dimension' is not defined"
     ]
    }
   ],
   "execution_count": 8
  },
  {
   "metadata": {
    "ExecuteTime": {
     "end_time": "2025-02-17T08:03:34.457540Z",
     "start_time": "2025-02-17T08:03:34.368333Z"
    }
   },
   "cell_type": "code",
   "source": [
    "import itertools \n",
    "\n",
    "\n",
    "def vc_dimension(hypothesis_set): \n",
    "\t\"\"\" \n",
    "\tEstimates the VC dimension of a hypothesis set using the brute-force approach. \n",
    "\t\"\"\"\n",
    "\tn = 5\n",
    "\twhile True: \n",
    "\t\tpoints = [(i, j) for i in range(n) for j in range(2)] \n",
    "\t\tshattered_sets = 0\n",
    "\t\tfor combination in itertools.combinations(points, n): \n",
    "\t\t\tis_shattered = True\n",
    "\t\t\tfor labeling in itertools.product([0, 1], repeat=n): \n",
    "\t\t\t\thypotheses = [hypothesis_set(point) for point in combination] \n",
    "\t\t\t\tif set(hypotheses) != set(labeling): \n",
    "\t\t\t\t\tis_shattered = False\n",
    "\t\t\t\t\tbreak\n",
    "\t\t\tif is_shattered: \n",
    "\t\t\t\tshattered_sets += 1\n",
    "\t\t\telse: \n",
    "\t\t\t\tbreak\n",
    "\t\tif not is_shattered: \n",
    "\t\t\tbreak\n",
    "\t\tn += 1\n",
    "\treturn n-1 if shattered_sets == 2**n else n-2\n",
    "\n",
    "\n",
    "# Example 2: quadratic function hypothesis set \n",
    "def quadratic_function(point): \n",
    "\tx, y = point \n",
    "\treturn int(y >= x**2) \n",
    "\n",
    "\n",
    "print(vc_dimension(quadratic_function)) \n"
   ],
   "id": "ee159ca048996a16",
   "outputs": [
    {
     "name": "stdout",
     "output_type": "stream",
     "text": [
      "3\n"
     ]
    }
   ],
   "execution_count": 10
  },
  {
   "metadata": {},
   "cell_type": "code",
   "outputs": [],
   "execution_count": null,
   "source": "# https://www.geeksforgeeks.org/understanding-pac-learning-theoretical-foundations-and-practical-applications-in-machine-learning/",
   "id": "2164a15cba3a0ea0"
  },
  {
   "metadata": {
    "ExecuteTime": {
     "end_time": "2025-02-17T08:26:08.142486Z",
     "start_time": "2025-02-17T08:26:05.848477Z"
    }
   },
   "cell_type": "code",
   "source": [
    "import numpy as np\n",
    "from sklearn.model_selection import train_test_split\n",
    "from sklearn.tree import DecisionTreeClassifier\n",
    "from sklearn.metrics import accuracy_score\n",
    "import matplotlib.pyplot as plt\n",
    "\n",
    "# Generate synthetic dataset\n",
    "np.random.seed(42)\n",
    "X = np.random.rand(1000, 2)\n",
    "y = (X[:, 0] + X[:, 1] > 1).astype(int)\n",
    "\n",
    "# Split the dataset into training and testing sets\n",
    "X_train, X_test, y_train, y_test = train_test_split(X, y, test_size=0.2, random_state=42)\n",
    "\n",
    "# Train a decision tree classifier\n",
    "clf = DecisionTreeClassifier(max_depth=3, random_state=42)\n",
    "clf.fit(X_train, y_train)\n",
    "\n",
    "# Predict on the testing data\n",
    "y_pred = clf.predict(X_test)\n",
    "\n",
    "# Calculate accuracy\n",
    "accuracy = accuracy_score(y_test, y_pred)\n",
    "\n",
    "# Function to evaluate model performance with varying training set sizes\n",
    "def evaluate_sample_complexity(X, y, test_size=0.2, max_depth=3):\n",
    "    train_sizes = np.linspace(0.1, 0.9, 10)  # Adjusted to ensure sum with test_size <= 1\n",
    "    accuracies = []\n",
    "\n",
    "    for train_size in train_sizes:\n",
    "        X_train, X_test, y_train, y_test = train_test_split(X, y, train_size=train_size, test_size=1-train_size, random_state=42)\n",
    "        clf = DecisionTreeClassifier(max_depth=max_depth, random_state=42)\n",
    "        clf.fit(X_train, y_train)\n",
    "        y_pred = clf.predict(X_test)\n",
    "        accuracy = accuracy_score(y_test, y_pred)\n",
    "        accuracies.append(accuracy)\n",
    "\n",
    "    return train_sizes, accuracies\n",
    "\n",
    "# Evaluate sample complexity\n",
    "train_sizes, accuracies = evaluate_sample_complexity(X, y)\n",
    "\n",
    "# Plot the results\n",
    "plt.plot(train_sizes, accuracies, marker='o')\n",
    "plt.xlabel('Training Set Size')\n",
    "plt.ylabel('Accuracy')\n",
    "plt.title('Sample Complexity and Accuracy')\n",
    "plt.grid(True)\n",
    "plt.show()\n",
    "\n",
    "accuracy, train_sizes, accuracies\n"
   ],
   "id": "initial_id",
   "outputs": [
    {
     "data": {
      "text/plain": [
       "<Figure size 640x480 with 1 Axes>"
      ],
      "image/png": "[encoded data removed]"
     },
     "metadata": {},
     "output_type": "display_data"
    },
    {
     "data": {
      "text/plain": [
       "(0.91,\n",
       " array([0.1       , 0.18888889, 0.27777778, 0.36666667, 0.45555556,\n",
       "        0.54444444, 0.63333333, 0.72222222, 0.81111111, 0.9       ]),\n",
       " [0.89,\n",
       "  0.8990147783251231,\n",
       "  0.9059474412171508,\n",
       "  0.8943217665615142,\n",
       "  0.8990825688073395,\n",
       "  0.9100877192982456,\n",
       "  0.9237057220708447,\n",
       "  0.9028776978417267,\n",
       "  0.9206349206349206,\n",
       "  0.94])"
      ]
     },
     "execution_count": 13,
     "metadata": {},
     "output_type": "execute_result"
    }
   ],
   "execution_count": 13
  },
  {
   "metadata": {
    "ExecuteTime": {
     "end_time": "2025-02-17T08:26:08.158187Z",
     "start_time": "2025-02-17T08:26:08.142486Z"
    }
   },
   "cell_type": "code",
   "source": [
    "np.random.seed(42)\n",
    "X = np.random.rand(1000, 2)\n",
    "y = (X[:, 0] + X[:, 1] > 1).astype(int)"
   ],
   "id": "eeda6a7b2ab3fa8",
   "outputs": [],
   "execution_count": 14
  },
  {
   "metadata": {
    "ExecuteTime": {
     "end_time": "2025-02-17T08:26:42.285448Z",
     "start_time": "2025-02-17T08:26:42.237965Z"
    }
   },
   "cell_type": "code",
   "source": "(X[:10],y[:10])",
   "id": "f7ef96222673b463",
   "outputs": [
    {
     "data": {
      "text/plain": [
       "(array([[0.37454012, 0.95071431],\n",
       "        [0.73199394, 0.59865848],\n",
       "        [0.15601864, 0.15599452],\n",
       "        [0.05808361, 0.86617615],\n",
       "        [0.60111501, 0.70807258],\n",
       "        [0.02058449, 0.96990985],\n",
       "        [0.83244264, 0.21233911],\n",
       "        [0.18182497, 0.18340451],\n",
       "        [0.30424224, 0.52475643],\n",
       "        [0.43194502, 0.29122914]]),\n",
       " array([1, 1, 0, 0, 1, 0, 1, 0, 0, 0]))"
      ]
     },
     "execution_count": 15,
     "metadata": {},
     "output_type": "execute_result"
    }
   ],
   "execution_count": 15
  },
  {
   "metadata": {},
   "cell_type": "code",
   "outputs": [],
   "execution_count": null,
   "source": "",
   "id": "a8d3f2104e5c125a"
  }
 ],
 "metadata": {
  "kernelspec": {
   "display_name": "Python 3",
   "language": "python",
   "name": "python3"
  },
  "language_info": {
   "codemirror_mode": {
    "name": "ipython",
    "version": 2
   },
   "file_extension": ".py",
   "mimetype": "text/x-python",
   "name": "python",
   "nbconvert_exporter": "python",
   "pygments_lexer": "ipython2",
   "version": "2.7.6"
  }
 },
 "nbformat": 4,
 "nbformat_minor": 5
}
