{
 "cells": [
  {
   "metadata": {
    "ExecuteTime": {
     "end_time": "2025-02-24T07:05:38.756629Z",
     "start_time": "2025-02-24T07:05:38.671695Z"
    }
   },
   "cell_type": "code",
   "source": [
    "import zipfile\n",
    "#import urllib.request\n",
    "import requests as req\n",
    "\n",
    "import os\n",
    " \n",
    "url = 'https://files.grouplens.org/datasets/movielens/ml-20m.zip'\n",
    "filename = '../data/movielens.zip'\n",
    "if not os.path.exists(filename):\n",
    "    file = req.get(url, allow_redirects=True)\n",
    "    open(filename, \"wb\").write(file.content)\n",
    "\n",
    "    #, allow_redirects=True\n",
    "    #urllib.request.urlretrieve(url, filename)\n",
    "    with zipfile.ZipFile(filename, 'r') as zip_ref:\n",
    "        zip_ref.extractall('../data')\n"
   ],
   "id": "f0cfaf1c014f433",
   "outputs": [],
   "execution_count": 40
  },
  {
   "metadata": {
    "ExecuteTime": {
     "end_time": "2025-02-24T07:05:39.002838Z",
     "start_time": "2025-02-24T07:05:38.907958Z"
    }
   },
   "cell_type": "code",
   "source": [
    "#data analysis libraries \n",
    "import numpy as np\n",
    "import pandas as pd\n",
    "from sklearn.model_selection import GridSearchCV\n",
    "#visualization libraries\n",
    "import matplotlib.pyplot as plt\n",
    "import seaborn as sns\n",
    "%matplotlib inline\n",
    "#ignore warnings\n",
    "import warnings\n",
    "\n",
    "warnings.filterwarnings('ignore')"
   ],
   "id": "initial_id",
   "outputs": [],
   "execution_count": 41
  },
  {
   "metadata": {
    "ExecuteTime": {
     "end_time": "2025-02-24T07:05:39.018596Z",
     "start_time": "2025-02-24T07:05:39.006840Z"
    }
   },
   "cell_type": "code",
   "source": "# https://aigamer28100.github.io/Movie-Lens-Dataset-Visualization-and-Prediction/",
   "id": "9824f5d031a12b2",
   "outputs": [],
   "execution_count": 42
  },
  {
   "metadata": {
    "ExecuteTime": {
     "end_time": "2025-02-24T07:05:47.496729Z",
     "start_time": "2025-02-24T07:05:39.072825Z"
    }
   },
   "cell_type": "code",
   "source": [
    "mldir=\"../data/ml-20m/\"\n",
    "\n",
    "#import train and test CSV files\n",
    "movie = pd.read_csv(mldir+\"movies.csv\")\n",
    "ratings = pd.read_csv(mldir+\"ratings.csv\")\n",
    "links = pd.read_csv(mldir+\"links.csv\")\n",
    "tags = pd.read_csv(mldir+\"tags.csv\")\n",
    "#take a look at the training data\n",
    "print(movie.shape)\n",
    "print(ratings.shape)\n",
    "print(links.shape)\n",
    "print(tags.shape,end=\"\\n\\n\")\n",
    "#m=pd.read_csv(\"movies.csv\")\n"
   ],
   "id": "963c0b29cd57dc3e",
   "outputs": [
    {
     "name": "stdout",
     "output_type": "stream",
     "text": [
      "(27278, 3)\n",
      "(20000263, 4)\n",
      "(27278, 3)\n",
      "(465564, 4)\n",
      "\n"
     ]
    }
   ],
   "execution_count": 43
  },
  {
   "metadata": {
    "ExecuteTime": {
     "end_time": "2025-02-24T07:05:47.692881Z",
     "start_time": "2025-02-24T07:05:47.505731Z"
    }
   },
   "cell_type": "code",
   "source": [
    "\n",
    "#get a list of the features within the dataset\n",
    "print(\"Movie : \", movie.columns,end=\"\\n\\n\")\n",
    "print(\"Rating : \", ratings.columns,end=\"\\n\\n\")\n",
    "print(\"Links : \", links.columns,end=\"\\n\\n\")\n",
    "print(\"Tags : \", tags.columns,end=\"\\n\\n\")\n",
    "\n",
    "movie.info()\n",
    "ratings.info()\n",
    "tags.info()"
   ],
   "id": "2e37ef67f34556f6",
   "outputs": [
    {
     "name": "stdout",
     "output_type": "stream",
     "text": [
      "Movie :  Index(['movieId', 'title', 'genres'], dtype='object')\n",
      "\n",
      "Rating :  Index(['userId', 'movieId', 'rating', 'timestamp'], dtype='object')\n",
      "\n",
      "Links :  Index(['movieId', 'imdbId', 'tmdbId'], dtype='object')\n",
      "\n",
      "Tags :  Index(['userId', 'movieId', 'tag', 'timestamp'], dtype='object')\n",
      "\n",
      "<class 'pandas.core.frame.DataFrame'>\n",
      "RangeIndex: 27278 entries, 0 to 27277\n",
      "Data columns (total 3 columns):\n",
      " #   Column   Non-Null Count  Dtype \n",
      "---  ------   --------------  ----- \n",
      " 0   movieId  27278 non-null  int64 \n",
      " 1   title    27278 non-null  object\n",
      " 2   genres   27278 non-null  object\n",
      "dtypes: int64(1), object(2)\n",
      "memory usage: 639.5+ KB\n",
      "<class 'pandas.core.frame.DataFrame'>\n",
      "RangeIndex: 20000263 entries, 0 to 20000262\n",
      "Data columns (total 4 columns):\n",
      " #   Column     Dtype  \n",
      "---  ------     -----  \n",
      " 0   userId     int64  \n",
      " 1   movieId    int64  \n",
      " 2   rating     float64\n",
      " 3   timestamp  int64  \n",
      "dtypes: float64(1), int64(3)\n",
      "memory usage: 610.4 MB\n",
      "<class 'pandas.core.frame.DataFrame'>\n",
      "RangeIndex: 465564 entries, 0 to 465563\n",
      "Data columns (total 4 columns):\n",
      " #   Column     Non-Null Count   Dtype \n",
      "---  ------     --------------   ----- \n",
      " 0   userId     465564 non-null  int64 \n",
      " 1   movieId    465564 non-null  int64 \n",
      " 2   tag        465548 non-null  object\n",
      " 3   timestamp  465564 non-null  int64 \n",
      "dtypes: int64(3), object(1)\n",
      "memory usage: 14.2+ MB\n"
     ]
    }
   ],
   "execution_count": 44
  },
  {
   "metadata": {
    "ExecuteTime": {
     "end_time": "2025-02-24T07:05:47.724326Z",
     "start_time": "2025-02-24T07:05:47.694884Z"
    }
   },
   "cell_type": "code",
   "source": [
    "movie.head(10)\n",
    "\n"
   ],
   "id": "b2b0864e0a3be59",
   "outputs": [
    {
     "data": {
      "text/plain": [
       "   movieId                               title  \\\n",
       "0        1                    Toy Story (1995)   \n",
       "1        2                      Jumanji (1995)   \n",
       "2        3             Grumpier Old Men (1995)   \n",
       "3        4            Waiting to Exhale (1995)   \n",
       "4        5  Father of the Bride Part II (1995)   \n",
       "5        6                         Heat (1995)   \n",
       "6        7                      Sabrina (1995)   \n",
       "7        8                 Tom and Huck (1995)   \n",
       "8        9                 Sudden Death (1995)   \n",
       "9       10                    GoldenEye (1995)   \n",
       "\n",
       "                                        genres  \n",
       "0  Adventure|Animation|Children|Comedy|Fantasy  \n",
       "1                   Adventure|Children|Fantasy  \n",
       "2                               Comedy|Romance  \n",
       "3                         Comedy|Drama|Romance  \n",
       "4                                       Comedy  \n",
       "5                        Action|Crime|Thriller  \n",
       "6                               Comedy|Romance  \n",
       "7                           Adventure|Children  \n",
       "8                                       Action  \n",
       "9                    Action|Adventure|Thriller  "
      ],
      "text/html": [
       "<div>\n",
       "<style scoped>\n",
       "    .dataframe tbody tr th:only-of-type {\n",
       "        vertical-align: middle;\n",
       "    }\n",
       "\n",
       "    .dataframe tbody tr th {\n",
       "        vertical-align: top;\n",
       "    }\n",
       "\n",
       "    .dataframe thead th {\n",
       "        text-align: right;\n",
       "    }\n",
       "</style>\n",
       "<table border=\"1\" class=\"dataframe\">\n",
       "  <thead>\n",
       "    <tr style=\"text-align: right;\">\n",
       "      <th></th>\n",
       "      <th>movieId</th>\n",
       "      <th>title</th>\n",
       "      <th>genres</th>\n",
       "    </tr>\n",
       "  </thead>\n",
       "  <tbody>\n",
       "    <tr>\n",
       "      <th>0</th>\n",
       "      <td>1</td>\n",
       "      <td>Toy Story (1995)</td>\n",
       "      <td>Adventure|Animation|Children|Comedy|Fantasy</td>\n",
       "    </tr>\n",
       "    <tr>\n",
       "      <th>1</th>\n",
       "      <td>2</td>\n",
       "      <td>Jumanji (1995)</td>\n",
       "      <td>Adventure|Children|Fantasy</td>\n",
       "    </tr>\n",
       "    <tr>\n",
       "      <th>2</th>\n",
       "      <td>3</td>\n",
       "      <td>Grumpier Old Men (1995)</td>\n",
       "      <td>Comedy|Romance</td>\n",
       "    </tr>\n",
       "    <tr>\n",
       "      <th>3</th>\n",
       "      <td>4</td>\n",
       "      <td>Waiting to Exhale (1995)</td>\n",
       "      <td>Comedy|Drama|Romance</td>\n",
       "    </tr>\n",
       "    <tr>\n",
       "      <th>4</th>\n",
       "      <td>5</td>\n",
       "      <td>Father of the Bride Part II (1995)</td>\n",
       "      <td>Comedy</td>\n",
       "    </tr>\n",
       "    <tr>\n",
       "      <th>5</th>\n",
       "      <td>6</td>\n",
       "      <td>Heat (1995)</td>\n",
       "      <td>Action|Crime|Thriller</td>\n",
       "    </tr>\n",
       "    <tr>\n",
       "      <th>6</th>\n",
       "      <td>7</td>\n",
       "      <td>Sabrina (1995)</td>\n",
       "      <td>Comedy|Romance</td>\n",
       "    </tr>\n",
       "    <tr>\n",
       "      <th>7</th>\n",
       "      <td>8</td>\n",
       "      <td>Tom and Huck (1995)</td>\n",
       "      <td>Adventure|Children</td>\n",
       "    </tr>\n",
       "    <tr>\n",
       "      <th>8</th>\n",
       "      <td>9</td>\n",
       "      <td>Sudden Death (1995)</td>\n",
       "      <td>Action</td>\n",
       "    </tr>\n",
       "    <tr>\n",
       "      <th>9</th>\n",
       "      <td>10</td>\n",
       "      <td>GoldenEye (1995)</td>\n",
       "      <td>Action|Adventure|Thriller</td>\n",
       "    </tr>\n",
       "  </tbody>\n",
       "</table>\n",
       "</div>"
      ]
     },
     "execution_count": 45,
     "metadata": {},
     "output_type": "execute_result"
    }
   ],
   "execution_count": 45
  },
  {
   "metadata": {
    "ExecuteTime": {
     "end_time": "2025-02-24T07:05:47.755918Z",
     "start_time": "2025-02-24T07:05:47.728330Z"
    }
   },
   "cell_type": "code",
   "source": "movie.loc[movie['genres'].str.contains(\"(no genres listed)\")]",
   "id": "5ec9f215814aaa2f",
   "outputs": [
    {
     "data": {
      "text/plain": [
       "       movieId                                            title  \\\n",
       "16574    83773            Away with Words (San tiao ren) (1999)   \n",
       "16589    83829                            Scorpio Rising (1964)   \n",
       "16764    84768                                Glitterbug (1994)   \n",
       "17080    86493  Age of the Earth, The (A Idade da Terra) (1980)   \n",
       "17243    87061                          Trails (Veredas) (1978)   \n",
       "...        ...                                              ...   \n",
       "27216   131082                                Playground (2009)   \n",
       "27229   131108                         The Fearless Four (1997)   \n",
       "27258   131166                                WWII IN HD (2009)   \n",
       "27261   131172                            Closed Curtain (2013)   \n",
       "27276   131260                              Rentun Ruusu (2001)   \n",
       "\n",
       "                   genres  \n",
       "16574  (no genres listed)  \n",
       "16589  (no genres listed)  \n",
       "16764  (no genres listed)  \n",
       "17080  (no genres listed)  \n",
       "17243  (no genres listed)  \n",
       "...                   ...  \n",
       "27216  (no genres listed)  \n",
       "27229  (no genres listed)  \n",
       "27258  (no genres listed)  \n",
       "27261  (no genres listed)  \n",
       "27276  (no genres listed)  \n",
       "\n",
       "[246 rows x 3 columns]"
      ],
      "text/html": [
       "<div>\n",
       "<style scoped>\n",
       "    .dataframe tbody tr th:only-of-type {\n",
       "        vertical-align: middle;\n",
       "    }\n",
       "\n",
       "    .dataframe tbody tr th {\n",
       "        vertical-align: top;\n",
       "    }\n",
       "\n",
       "    .dataframe thead th {\n",
       "        text-align: right;\n",
       "    }\n",
       "</style>\n",
       "<table border=\"1\" class=\"dataframe\">\n",
       "  <thead>\n",
       "    <tr style=\"text-align: right;\">\n",
       "      <th></th>\n",
       "      <th>movieId</th>\n",
       "      <th>title</th>\n",
       "      <th>genres</th>\n",
       "    </tr>\n",
       "  </thead>\n",
       "  <tbody>\n",
       "    <tr>\n",
       "      <th>16574</th>\n",
       "      <td>83773</td>\n",
       "      <td>Away with Words (San tiao ren) (1999)</td>\n",
       "      <td>(no genres listed)</td>\n",
       "    </tr>\n",
       "    <tr>\n",
       "      <th>16589</th>\n",
       "      <td>83829</td>\n",
       "      <td>Scorpio Rising (1964)</td>\n",
       "      <td>(no genres listed)</td>\n",
       "    </tr>\n",
       "    <tr>\n",
       "      <th>16764</th>\n",
       "      <td>84768</td>\n",
       "      <td>Glitterbug (1994)</td>\n",
       "      <td>(no genres listed)</td>\n",
       "    </tr>\n",
       "    <tr>\n",
       "      <th>17080</th>\n",
       "      <td>86493</td>\n",
       "      <td>Age of the Earth, The (A Idade da Terra) (1980)</td>\n",
       "      <td>(no genres listed)</td>\n",
       "    </tr>\n",
       "    <tr>\n",
       "      <th>17243</th>\n",
       "      <td>87061</td>\n",
       "      <td>Trails (Veredas) (1978)</td>\n",
       "      <td>(no genres listed)</td>\n",
       "    </tr>\n",
       "    <tr>\n",
       "      <th>...</th>\n",
       "      <td>...</td>\n",
       "      <td>...</td>\n",
       "      <td>...</td>\n",
       "    </tr>\n",
       "    <tr>\n",
       "      <th>27216</th>\n",
       "      <td>131082</td>\n",
       "      <td>Playground (2009)</td>\n",
       "      <td>(no genres listed)</td>\n",
       "    </tr>\n",
       "    <tr>\n",
       "      <th>27229</th>\n",
       "      <td>131108</td>\n",
       "      <td>The Fearless Four (1997)</td>\n",
       "      <td>(no genres listed)</td>\n",
       "    </tr>\n",
       "    <tr>\n",
       "      <th>27258</th>\n",
       "      <td>131166</td>\n",
       "      <td>WWII IN HD (2009)</td>\n",
       "      <td>(no genres listed)</td>\n",
       "    </tr>\n",
       "    <tr>\n",
       "      <th>27261</th>\n",
       "      <td>131172</td>\n",
       "      <td>Closed Curtain (2013)</td>\n",
       "      <td>(no genres listed)</td>\n",
       "    </tr>\n",
       "    <tr>\n",
       "      <th>27276</th>\n",
       "      <td>131260</td>\n",
       "      <td>Rentun Ruusu (2001)</td>\n",
       "      <td>(no genres listed)</td>\n",
       "    </tr>\n",
       "  </tbody>\n",
       "</table>\n",
       "<p>246 rows × 3 columns</p>\n",
       "</div>"
      ]
     },
     "execution_count": 46,
     "metadata": {},
     "output_type": "execute_result"
    }
   ],
   "execution_count": 46
  },
  {
   "metadata": {
    "ExecuteTime": {
     "end_time": "2025-02-24T07:05:47.771358Z",
     "start_time": "2025-02-24T07:05:47.756920Z"
    }
   },
   "cell_type": "code",
   "source": "",
   "id": "3cb400ed502b24d0",
   "outputs": [],
   "execution_count": 46
  },
  {
   "metadata": {
    "ExecuteTime": {
     "end_time": "2025-02-24T07:05:47.786971Z",
     "start_time": "2025-02-24T07:05:47.774366Z"
    }
   },
   "cell_type": "code",
   "source": "links.head(3)\n",
   "id": "c17d5402d5d802f4",
   "outputs": [
    {
     "data": {
      "text/plain": [
       "   movieId  imdbId   tmdbId\n",
       "0        1  114709    862.0\n",
       "1        2  113497   8844.0\n",
       "2        3  113228  15602.0"
      ],
      "text/html": [
       "<div>\n",
       "<style scoped>\n",
       "    .dataframe tbody tr th:only-of-type {\n",
       "        vertical-align: middle;\n",
       "    }\n",
       "\n",
       "    .dataframe tbody tr th {\n",
       "        vertical-align: top;\n",
       "    }\n",
       "\n",
       "    .dataframe thead th {\n",
       "        text-align: right;\n",
       "    }\n",
       "</style>\n",
       "<table border=\"1\" class=\"dataframe\">\n",
       "  <thead>\n",
       "    <tr style=\"text-align: right;\">\n",
       "      <th></th>\n",
       "      <th>movieId</th>\n",
       "      <th>imdbId</th>\n",
       "      <th>tmdbId</th>\n",
       "    </tr>\n",
       "  </thead>\n",
       "  <tbody>\n",
       "    <tr>\n",
       "      <th>0</th>\n",
       "      <td>1</td>\n",
       "      <td>114709</td>\n",
       "      <td>862.0</td>\n",
       "    </tr>\n",
       "    <tr>\n",
       "      <th>1</th>\n",
       "      <td>2</td>\n",
       "      <td>113497</td>\n",
       "      <td>8844.0</td>\n",
       "    </tr>\n",
       "    <tr>\n",
       "      <th>2</th>\n",
       "      <td>3</td>\n",
       "      <td>113228</td>\n",
       "      <td>15602.0</td>\n",
       "    </tr>\n",
       "  </tbody>\n",
       "</table>\n",
       "</div>"
      ]
     },
     "execution_count": 47,
     "metadata": {},
     "output_type": "execute_result"
    }
   ],
   "execution_count": 47
  },
  {
   "metadata": {
    "ExecuteTime": {
     "end_time": "2025-02-24T07:05:47.802971Z",
     "start_time": "2025-02-24T07:05:47.788973Z"
    }
   },
   "cell_type": "code",
   "source": "ratings.head(3)",
   "id": "f83dc672b1010d1e",
   "outputs": [
    {
     "data": {
      "text/plain": [
       "   userId  movieId  rating   timestamp\n",
       "0       1        2     3.5  1112486027\n",
       "1       1       29     3.5  1112484676\n",
       "2       1       32     3.5  1112484819"
      ],
      "text/html": [
       "<div>\n",
       "<style scoped>\n",
       "    .dataframe tbody tr th:only-of-type {\n",
       "        vertical-align: middle;\n",
       "    }\n",
       "\n",
       "    .dataframe tbody tr th {\n",
       "        vertical-align: top;\n",
       "    }\n",
       "\n",
       "    .dataframe thead th {\n",
       "        text-align: right;\n",
       "    }\n",
       "</style>\n",
       "<table border=\"1\" class=\"dataframe\">\n",
       "  <thead>\n",
       "    <tr style=\"text-align: right;\">\n",
       "      <th></th>\n",
       "      <th>userId</th>\n",
       "      <th>movieId</th>\n",
       "      <th>rating</th>\n",
       "      <th>timestamp</th>\n",
       "    </tr>\n",
       "  </thead>\n",
       "  <tbody>\n",
       "    <tr>\n",
       "      <th>0</th>\n",
       "      <td>1</td>\n",
       "      <td>2</td>\n",
       "      <td>3.5</td>\n",
       "      <td>1112486027</td>\n",
       "    </tr>\n",
       "    <tr>\n",
       "      <th>1</th>\n",
       "      <td>1</td>\n",
       "      <td>29</td>\n",
       "      <td>3.5</td>\n",
       "      <td>1112484676</td>\n",
       "    </tr>\n",
       "    <tr>\n",
       "      <th>2</th>\n",
       "      <td>1</td>\n",
       "      <td>32</td>\n",
       "      <td>3.5</td>\n",
       "      <td>1112484819</td>\n",
       "    </tr>\n",
       "  </tbody>\n",
       "</table>\n",
       "</div>"
      ]
     },
     "execution_count": 48,
     "metadata": {},
     "output_type": "execute_result"
    }
   ],
   "execution_count": 48
  },
  {
   "metadata": {
    "ExecuteTime": {
     "end_time": "2025-02-24T07:05:47.818971Z",
     "start_time": "2025-02-24T07:05:47.804971Z"
    }
   },
   "cell_type": "code",
   "source": "tags.head(3)\n",
   "id": "2956bb89ac1985f4",
   "outputs": [
    {
     "data": {
      "text/plain": [
       "   userId  movieId          tag   timestamp\n",
       "0      18     4141  Mark Waters  1240597180\n",
       "1      65      208    dark hero  1368150078\n",
       "2      65      353    dark hero  1368150079"
      ],
      "text/html": [
       "<div>\n",
       "<style scoped>\n",
       "    .dataframe tbody tr th:only-of-type {\n",
       "        vertical-align: middle;\n",
       "    }\n",
       "\n",
       "    .dataframe tbody tr th {\n",
       "        vertical-align: top;\n",
       "    }\n",
       "\n",
       "    .dataframe thead th {\n",
       "        text-align: right;\n",
       "    }\n",
       "</style>\n",
       "<table border=\"1\" class=\"dataframe\">\n",
       "  <thead>\n",
       "    <tr style=\"text-align: right;\">\n",
       "      <th></th>\n",
       "      <th>userId</th>\n",
       "      <th>movieId</th>\n",
       "      <th>tag</th>\n",
       "      <th>timestamp</th>\n",
       "    </tr>\n",
       "  </thead>\n",
       "  <tbody>\n",
       "    <tr>\n",
       "      <th>0</th>\n",
       "      <td>18</td>\n",
       "      <td>4141</td>\n",
       "      <td>Mark Waters</td>\n",
       "      <td>1240597180</td>\n",
       "    </tr>\n",
       "    <tr>\n",
       "      <th>1</th>\n",
       "      <td>65</td>\n",
       "      <td>208</td>\n",
       "      <td>dark hero</td>\n",
       "      <td>1368150078</td>\n",
       "    </tr>\n",
       "    <tr>\n",
       "      <th>2</th>\n",
       "      <td>65</td>\n",
       "      <td>353</td>\n",
       "      <td>dark hero</td>\n",
       "      <td>1368150079</td>\n",
       "    </tr>\n",
       "  </tbody>\n",
       "</table>\n",
       "</div>"
      ]
     },
     "execution_count": 49,
     "metadata": {},
     "output_type": "execute_result"
    }
   ],
   "execution_count": 49
  },
  {
   "metadata": {
    "ExecuteTime": {
     "end_time": "2025-02-24T07:05:47.833971Z",
     "start_time": "2025-02-24T07:05:47.820974Z"
    }
   },
   "cell_type": "code",
   "source": "del tags, links",
   "id": "1c8bea5aa170c561",
   "outputs": [],
   "execution_count": 50
  },
  {
   "metadata": {
    "ExecuteTime": {
     "end_time": "2025-02-24T07:05:48.143405Z",
     "start_time": "2025-02-24T07:05:47.837973Z"
    }
   },
   "cell_type": "code",
   "source": [
    "# Droping the timestamp column from ratings and tags file\n",
    "ratings.drop(columns='timestamp',inplace=True)\n",
    "#tags.drop(columns='timestamp',inplace=True)"
   ],
   "id": "449aebfc1545fea2",
   "outputs": [],
   "execution_count": 51
  },
  {
   "metadata": {
    "ExecuteTime": {
     "end_time": "2025-02-24T07:05:48.911512Z",
     "start_time": "2025-02-24T07:05:48.144688Z"
    }
   },
   "cell_type": "code",
   "source": [
    "all_categories = set(cat for sublist in movie['genres'].str.split(\"|\") for cat in sublist)\n",
    "print(all_categories)"
   ],
   "id": "2b74e3d27bea974",
   "outputs": [
    {
     "name": "stdout",
     "output_type": "stream",
     "text": [
      "{'Comedy', 'Thriller', 'Romance', 'Children', 'Sci-Fi', 'Action', 'Mystery', '(no genres listed)', 'War', 'Musical', 'Drama', 'Film-Noir', 'IMAX', 'Western', 'Horror', 'Animation', 'Fantasy', 'Adventure', 'Crime', 'Documentary'}\n"
     ]
    }
   ],
   "execution_count": 52
  },
  {
   "metadata": {
    "ExecuteTime": {
     "end_time": "2025-02-24T07:05:49.049037Z",
     "start_time": "2025-02-24T07:05:48.913511Z"
    }
   },
   "cell_type": "code",
   "source": [
    "for category in all_categories:  \n",
    "    movie[category] = movie['genres'].apply(lambda x: 1 if category in x else 0)\n",
    "\n",
    "# Drop the original 'Categories' column\n",
    "movie = movie.drop('genres', axis=1)\n",
    "    "
   ],
   "id": "c8bf89319a917f39",
   "outputs": [],
   "execution_count": 53
  },
  {
   "metadata": {
    "ExecuteTime": {
     "end_time": "2025-02-24T07:05:49.597160Z",
     "start_time": "2025-02-24T07:05:49.051038Z"
    }
   },
   "cell_type": "code",
   "source": "x=ratings.groupby('movieId').rating.mean()\n",
   "id": "a0a042ad27dcfe8b",
   "outputs": [],
   "execution_count": 54
  },
  {
   "metadata": {
    "ExecuteTime": {
     "end_time": "2025-02-24T07:05:49.612163Z",
     "start_time": "2025-02-24T07:05:49.600163Z"
    }
   },
   "cell_type": "code",
   "source": "type(x)",
   "id": "8508d56a7053f83d",
   "outputs": [
    {
     "data": {
      "text/plain": [
       "pandas.core.series.Series"
      ]
     },
     "execution_count": 55,
     "metadata": {},
     "output_type": "execute_result"
    }
   ],
   "execution_count": 55
  },
  {
   "metadata": {
    "ExecuteTime": {
     "end_time": "2025-02-24T07:05:49.628160Z",
     "start_time": "2025-02-24T07:05:49.615164Z"
    }
   },
   "cell_type": "code",
   "source": "movie.columns",
   "id": "bd0eabaea20bf91e",
   "outputs": [
    {
     "data": {
      "text/plain": [
       "Index(['movieId', 'title', 'Comedy', 'Thriller', 'Romance', 'Children',\n",
       "       'Sci-Fi', 'Action', 'Mystery', '(no genres listed)', 'War', 'Musical',\n",
       "       'Drama', 'Film-Noir', 'IMAX', 'Western', 'Horror', 'Animation',\n",
       "       'Fantasy', 'Adventure', 'Crime', 'Documentary'],\n",
       "      dtype='object')"
      ]
     },
     "execution_count": 56,
     "metadata": {},
     "output_type": "execute_result"
    }
   ],
   "execution_count": 56
  },
  {
   "metadata": {
    "ExecuteTime": {
     "end_time": "2025-02-24T07:05:49.643168Z",
     "start_time": "2025-02-24T07:05:49.630164Z"
    }
   },
   "cell_type": "code",
   "source": "type(movie['IMAX'])",
   "id": "600de20486a28027",
   "outputs": [
    {
     "data": {
      "text/plain": [
       "pandas.core.series.Series"
      ]
     },
     "execution_count": 57,
     "metadata": {},
     "output_type": "execute_result"
    }
   ],
   "execution_count": 57
  },
  {
   "metadata": {
    "ExecuteTime": {
     "end_time": "2025-02-24T07:05:49.658171Z",
     "start_time": "2025-02-24T07:05:49.646171Z"
    }
   },
   "cell_type": "code",
   "source": "movie['IMAX']",
   "id": "bf8bb289ceb0a569",
   "outputs": [
    {
     "data": {
      "text/plain": [
       "0        0\n",
       "1        0\n",
       "2        0\n",
       "3        0\n",
       "4        0\n",
       "        ..\n",
       "27273    0\n",
       "27274    0\n",
       "27275    0\n",
       "27276    0\n",
       "27277    0\n",
       "Name: IMAX, Length: 27278, dtype: int64"
      ]
     },
     "execution_count": 58,
     "metadata": {},
     "output_type": "execute_result"
    }
   ],
   "execution_count": 58
  },
  {
   "metadata": {
    "ExecuteTime": {
     "end_time": "2025-02-24T07:05:49.673701Z",
     "start_time": "2025-02-24T07:05:49.660700Z"
    }
   },
   "cell_type": "code",
   "source": "x",
   "id": "debe2b0b79f2ffb5",
   "outputs": [
    {
     "data": {
      "text/plain": [
       "movieId\n",
       "1         3.921240\n",
       "2         3.211977\n",
       "3         3.151040\n",
       "4         2.861393\n",
       "5         3.064592\n",
       "            ...   \n",
       "131254    4.000000\n",
       "131256    4.000000\n",
       "131258    2.500000\n",
       "131260    3.000000\n",
       "131262    4.000000\n",
       "Name: rating, Length: 26744, dtype: float64"
      ]
     },
     "execution_count": 59,
     "metadata": {},
     "output_type": "execute_result"
    }
   ],
   "execution_count": 59
  },
  {
   "metadata": {
    "ExecuteTime": {
     "end_time": "2025-02-24T07:05:50.200132Z",
     "start_time": "2025-02-24T07:05:49.677704Z"
    }
   },
   "cell_type": "code",
   "source": [
    "#Add a Column `rating` in movie DF and assign them with the Mean Movie Rating for that Movie.\n",
    "x=ratings.groupby('movieId').rating.mean()\n",
    "movie = pd.merge(movie,x,how='outer',on='movieId')"
   ],
   "id": "374d7ac821330eaf",
   "outputs": [],
   "execution_count": 60
  },
  {
   "metadata": {
    "ExecuteTime": {
     "end_time": "2025-02-24T07:05:50.215483Z",
     "start_time": "2025-02-24T07:05:50.202135Z"
    }
   },
   "cell_type": "code",
   "source": "movie['rating'].fillna('0',inplace=True)\n",
   "id": "5dda322be90226e4",
   "outputs": [],
   "execution_count": 61
  },
  {
   "metadata": {
    "ExecuteTime": {
     "end_time": "2025-02-24T07:05:50.231301Z",
     "start_time": "2025-02-24T07:05:50.217492Z"
    }
   },
   "cell_type": "code",
   "source": "movie.head()",
   "id": "e47c98e7e9cc7128",
   "outputs": [
    {
     "data": {
      "text/plain": [
       "   movieId                               title  Comedy  Thriller  Romance  \\\n",
       "0        1                    Toy Story (1995)       1         0        0   \n",
       "1        2                      Jumanji (1995)       0         0        0   \n",
       "2        3             Grumpier Old Men (1995)       1         0        1   \n",
       "3        4            Waiting to Exhale (1995)       1         0        1   \n",
       "4        5  Father of the Bride Part II (1995)       1         0        0   \n",
       "\n",
       "   Children  Sci-Fi  Action  Mystery  (no genres listed)  ...  Film-Noir  \\\n",
       "0         1       0       0        0                   0  ...          0   \n",
       "1         1       0       0        0                   0  ...          0   \n",
       "2         0       0       0        0                   0  ...          0   \n",
       "3         0       0       0        0                   0  ...          0   \n",
       "4         0       0       0        0                   0  ...          0   \n",
       "\n",
       "   IMAX  Western  Horror  Animation  Fantasy  Adventure  Crime  Documentary  \\\n",
       "0     0        0       0          1        1          1      0            0   \n",
       "1     0        0       0          0        1          1      0            0   \n",
       "2     0        0       0          0        0          0      0            0   \n",
       "3     0        0       0          0        0          0      0            0   \n",
       "4     0        0       0          0        0          0      0            0   \n",
       "\n",
       "     rating  \n",
       "0   3.92124  \n",
       "1  3.211977  \n",
       "2   3.15104  \n",
       "3  2.861393  \n",
       "4  3.064592  \n",
       "\n",
       "[5 rows x 23 columns]"
      ],
      "text/html": [
       "<div>\n",
       "<style scoped>\n",
       "    .dataframe tbody tr th:only-of-type {\n",
       "        vertical-align: middle;\n",
       "    }\n",
       "\n",
       "    .dataframe tbody tr th {\n",
       "        vertical-align: top;\n",
       "    }\n",
       "\n",
       "    .dataframe thead th {\n",
       "        text-align: right;\n",
       "    }\n",
       "</style>\n",
       "<table border=\"1\" class=\"dataframe\">\n",
       "  <thead>\n",
       "    <tr style=\"text-align: right;\">\n",
       "      <th></th>\n",
       "      <th>movieId</th>\n",
       "      <th>title</th>\n",
       "      <th>Comedy</th>\n",
       "      <th>Thriller</th>\n",
       "      <th>Romance</th>\n",
       "      <th>Children</th>\n",
       "      <th>Sci-Fi</th>\n",
       "      <th>Action</th>\n",
       "      <th>Mystery</th>\n",
       "      <th>(no genres listed)</th>\n",
       "      <th>...</th>\n",
       "      <th>Film-Noir</th>\n",
       "      <th>IMAX</th>\n",
       "      <th>Western</th>\n",
       "      <th>Horror</th>\n",
       "      <th>Animation</th>\n",
       "      <th>Fantasy</th>\n",
       "      <th>Adventure</th>\n",
       "      <th>Crime</th>\n",
       "      <th>Documentary</th>\n",
       "      <th>rating</th>\n",
       "    </tr>\n",
       "  </thead>\n",
       "  <tbody>\n",
       "    <tr>\n",
       "      <th>0</th>\n",
       "      <td>1</td>\n",
       "      <td>Toy Story (1995)</td>\n",
       "      <td>1</td>\n",
       "      <td>0</td>\n",
       "      <td>0</td>\n",
       "      <td>1</td>\n",
       "      <td>0</td>\n",
       "      <td>0</td>\n",
       "      <td>0</td>\n",
       "      <td>0</td>\n",
       "      <td>...</td>\n",
       "      <td>0</td>\n",
       "      <td>0</td>\n",
       "      <td>0</td>\n",
       "      <td>0</td>\n",
       "      <td>1</td>\n",
       "      <td>1</td>\n",
       "      <td>1</td>\n",
       "      <td>0</td>\n",
       "      <td>0</td>\n",
       "      <td>3.92124</td>\n",
       "    </tr>\n",
       "    <tr>\n",
       "      <th>1</th>\n",
       "      <td>2</td>\n",
       "      <td>Jumanji (1995)</td>\n",
       "      <td>0</td>\n",
       "      <td>0</td>\n",
       "      <td>0</td>\n",
       "      <td>1</td>\n",
       "      <td>0</td>\n",
       "      <td>0</td>\n",
       "      <td>0</td>\n",
       "      <td>0</td>\n",
       "      <td>...</td>\n",
       "      <td>0</td>\n",
       "      <td>0</td>\n",
       "      <td>0</td>\n",
       "      <td>0</td>\n",
       "      <td>0</td>\n",
       "      <td>1</td>\n",
       "      <td>1</td>\n",
       "      <td>0</td>\n",
       "      <td>0</td>\n",
       "      <td>3.211977</td>\n",
       "    </tr>\n",
       "    <tr>\n",
       "      <th>2</th>\n",
       "      <td>3</td>\n",
       "      <td>Grumpier Old Men (1995)</td>\n",
       "      <td>1</td>\n",
       "      <td>0</td>\n",
       "      <td>1</td>\n",
       "      <td>0</td>\n",
       "      <td>0</td>\n",
       "      <td>0</td>\n",
       "      <td>0</td>\n",
       "      <td>0</td>\n",
       "      <td>...</td>\n",
       "      <td>0</td>\n",
       "      <td>0</td>\n",
       "      <td>0</td>\n",
       "      <td>0</td>\n",
       "      <td>0</td>\n",
       "      <td>0</td>\n",
       "      <td>0</td>\n",
       "      <td>0</td>\n",
       "      <td>0</td>\n",
       "      <td>3.15104</td>\n",
       "    </tr>\n",
       "    <tr>\n",
       "      <th>3</th>\n",
       "      <td>4</td>\n",
       "      <td>Waiting to Exhale (1995)</td>\n",
       "      <td>1</td>\n",
       "      <td>0</td>\n",
       "      <td>1</td>\n",
       "      <td>0</td>\n",
       "      <td>0</td>\n",
       "      <td>0</td>\n",
       "      <td>0</td>\n",
       "      <td>0</td>\n",
       "      <td>...</td>\n",
       "      <td>0</td>\n",
       "      <td>0</td>\n",
       "      <td>0</td>\n",
       "      <td>0</td>\n",
       "      <td>0</td>\n",
       "      <td>0</td>\n",
       "      <td>0</td>\n",
       "      <td>0</td>\n",
       "      <td>0</td>\n",
       "      <td>2.861393</td>\n",
       "    </tr>\n",
       "    <tr>\n",
       "      <th>4</th>\n",
       "      <td>5</td>\n",
       "      <td>Father of the Bride Part II (1995)</td>\n",
       "      <td>1</td>\n",
       "      <td>0</td>\n",
       "      <td>0</td>\n",
       "      <td>0</td>\n",
       "      <td>0</td>\n",
       "      <td>0</td>\n",
       "      <td>0</td>\n",
       "      <td>0</td>\n",
       "      <td>...</td>\n",
       "      <td>0</td>\n",
       "      <td>0</td>\n",
       "      <td>0</td>\n",
       "      <td>0</td>\n",
       "      <td>0</td>\n",
       "      <td>0</td>\n",
       "      <td>0</td>\n",
       "      <td>0</td>\n",
       "      <td>0</td>\n",
       "      <td>3.064592</td>\n",
       "    </tr>\n",
       "  </tbody>\n",
       "</table>\n",
       "<p>5 rows × 23 columns</p>\n",
       "</div>"
      ]
     },
     "execution_count": 62,
     "metadata": {},
     "output_type": "execute_result"
    }
   ],
   "execution_count": 62
  },
  {
   "metadata": {
    "ExecuteTime": {
     "end_time": "2025-02-24T07:05:50.247149Z",
     "start_time": "2025-02-24T07:05:50.232303Z"
    }
   },
   "cell_type": "code",
   "source": [
    "#importing necessary packages for model prediction and evaluation\n",
    "import sklearn\n",
    "from sklearn.tree import DecisionTreeRegressor\n",
    "from sklearn.metrics import mean_absolute_error,mean_squared_error\n",
    "from sklearn.model_selection import train_test_split"
   ],
   "id": "9b7dff7f1e9b70e8",
   "outputs": [],
   "execution_count": 63
  },
  {
   "metadata": {
    "ExecuteTime": {
     "end_time": "2025-02-24T07:05:50.262206Z",
     "start_time": "2025-02-24T07:05:50.249152Z"
    }
   },
   "cell_type": "code",
   "source": "movie.columns",
   "id": "17d77b91018d58b5",
   "outputs": [
    {
     "data": {
      "text/plain": [
       "Index(['movieId', 'title', 'Comedy', 'Thriller', 'Romance', 'Children',\n",
       "       'Sci-Fi', 'Action', 'Mystery', '(no genres listed)', 'War', 'Musical',\n",
       "       'Drama', 'Film-Noir', 'IMAX', 'Western', 'Horror', 'Animation',\n",
       "       'Fantasy', 'Adventure', 'Crime', 'Documentary', 'rating'],\n",
       "      dtype='object')"
      ]
     },
     "execution_count": 64,
     "metadata": {},
     "output_type": "execute_result"
    }
   ],
   "execution_count": 64
  },
  {
   "metadata": {
    "ExecuteTime": {
     "end_time": "2025-02-24T07:05:50.277127Z",
     "start_time": "2025-02-24T07:05:50.264206Z"
    }
   },
   "cell_type": "code",
   "source": [
    "#split the data into features and results\n",
    "X = movie[movie.columns[2:-1]]\n",
    "y = movie[movie.columns[-1]]"
   ],
   "id": "e2ed8b342e2d8dd3",
   "outputs": [],
   "execution_count": 65
  },
  {
   "metadata": {
    "ExecuteTime": {
     "end_time": "2025-02-24T07:05:50.292640Z",
     "start_time": "2025-02-24T07:05:50.279127Z"
    }
   },
   "cell_type": "code",
   "source": "X.columns",
   "id": "ef54b6ff1ae1b0c8",
   "outputs": [
    {
     "data": {
      "text/plain": [
       "Index(['Comedy', 'Thriller', 'Romance', 'Children', 'Sci-Fi', 'Action',\n",
       "       'Mystery', '(no genres listed)', 'War', 'Musical', 'Drama', 'Film-Noir',\n",
       "       'IMAX', 'Western', 'Horror', 'Animation', 'Fantasy', 'Adventure',\n",
       "       'Crime', 'Documentary'],\n",
       "      dtype='object')"
      ]
     },
     "execution_count": 66,
     "metadata": {},
     "output_type": "execute_result"
    }
   ],
   "execution_count": 66
  },
  {
   "metadata": {
    "ExecuteTime": {
     "end_time": "2025-02-24T07:05:50.338767Z",
     "start_time": "2025-02-24T07:05:50.294643Z"
    }
   },
   "cell_type": "code",
   "source": [
    "X_1 , X_test , y_1 , y_test = train_test_split(X ,y ,test_size=0.20 ,random_state = 1 ,shuffle = True)\n",
    "\n",
    "X_train , X_validation , y_train , y_validation = train_test_split(X_1 ,y_1 ,test_size=0.20 ,random_state = 1 ,shuffle = True)\n"
   ],
   "id": "11b770245528f71d",
   "outputs": [],
   "execution_count": 67
  },
  {
   "metadata": {
    "ExecuteTime": {
     "end_time": "2025-02-24T07:05:50.354109Z",
     "start_time": "2025-02-24T07:05:50.339768Z"
    }
   },
   "cell_type": "code",
   "source": "X_train.shape",
   "id": "2388c8f5be249233",
   "outputs": [
    {
     "data": {
      "text/plain": [
       "(17457, 20)"
      ]
     },
     "execution_count": 68,
     "metadata": {},
     "output_type": "execute_result"
    }
   ],
   "execution_count": 68
  },
  {
   "metadata": {
    "ExecuteTime": {
     "end_time": "2025-02-24T07:05:50.384572Z",
     "start_time": "2025-02-24T07:05:50.359108Z"
    }
   },
   "cell_type": "code",
   "source": "X_train.head()",
   "id": "f13d525eebe026fe",
   "outputs": [
    {
     "data": {
      "text/plain": [
       "       Comedy  Thriller  Romance  Children  Sci-Fi  Action  Mystery  \\\n",
       "359         0         0        0         0       0       0        0   \n",
       "17425       1         0        0         1       0       0        0   \n",
       "5307        0         0        1         0       0       0        0   \n",
       "5990        1         0        0         0       0       0        0   \n",
       "7787        1         0        0         0       0       0        0   \n",
       "\n",
       "       (no genres listed)  War  Musical  Drama  Film-Noir  IMAX  Western  \\\n",
       "359                     0    0        0      0          0     0        0   \n",
       "17425                   0    0        0      0          0     1        0   \n",
       "5307                    0    0        0      1          0     0        0   \n",
       "5990                    0    0        0      0          0     0        0   \n",
       "7787                    0    0        0      0          0     0        0   \n",
       "\n",
       "       Horror  Animation  Fantasy  Adventure  Crime  Documentary  \n",
       "359         0          0        0          0      0            1  \n",
       "17425       0          1        0          1      0            0  \n",
       "5307        0          0        0          0      0            0  \n",
       "5990        0          0        0          0      1            0  \n",
       "7787        0          0        0          0      1            0  "
      ],
      "text/html": [
       "<div>\n",
       "<style scoped>\n",
       "    .dataframe tbody tr th:only-of-type {\n",
       "        vertical-align: middle;\n",
       "    }\n",
       "\n",
       "    .dataframe tbody tr th {\n",
       "        vertical-align: top;\n",
       "    }\n",
       "\n",
       "    .dataframe thead th {\n",
       "        text-align: right;\n",
       "    }\n",
       "</style>\n",
       "<table border=\"1\" class=\"dataframe\">\n",
       "  <thead>\n",
       "    <tr style=\"text-align: right;\">\n",
       "      <th></th>\n",
       "      <th>Comedy</th>\n",
       "      <th>Thriller</th>\n",
       "      <th>Romance</th>\n",
       "      <th>Children</th>\n",
       "      <th>Sci-Fi</th>\n",
       "      <th>Action</th>\n",
       "      <th>Mystery</th>\n",
       "      <th>(no genres listed)</th>\n",
       "      <th>War</th>\n",
       "      <th>Musical</th>\n",
       "      <th>Drama</th>\n",
       "      <th>Film-Noir</th>\n",
       "      <th>IMAX</th>\n",
       "      <th>Western</th>\n",
       "      <th>Horror</th>\n",
       "      <th>Animation</th>\n",
       "      <th>Fantasy</th>\n",
       "      <th>Adventure</th>\n",
       "      <th>Crime</th>\n",
       "      <th>Documentary</th>\n",
       "    </tr>\n",
       "  </thead>\n",
       "  <tbody>\n",
       "    <tr>\n",
       "      <th>359</th>\n",
       "      <td>0</td>\n",
       "      <td>0</td>\n",
       "      <td>0</td>\n",
       "      <td>0</td>\n",
       "      <td>0</td>\n",
       "      <td>0</td>\n",
       "      <td>0</td>\n",
       "      <td>0</td>\n",
       "      <td>0</td>\n",
       "      <td>0</td>\n",
       "      <td>0</td>\n",
       "      <td>0</td>\n",
       "      <td>0</td>\n",
       "      <td>0</td>\n",
       "      <td>0</td>\n",
       "      <td>0</td>\n",
       "      <td>0</td>\n",
       "      <td>0</td>\n",
       "      <td>0</td>\n",
       "      <td>1</td>\n",
       "    </tr>\n",
       "    <tr>\n",
       "      <th>17425</th>\n",
       "      <td>1</td>\n",
       "      <td>0</td>\n",
       "      <td>0</td>\n",
       "      <td>1</td>\n",
       "      <td>0</td>\n",
       "      <td>0</td>\n",
       "      <td>0</td>\n",
       "      <td>0</td>\n",
       "      <td>0</td>\n",
       "      <td>0</td>\n",
       "      <td>0</td>\n",
       "      <td>0</td>\n",
       "      <td>1</td>\n",
       "      <td>0</td>\n",
       "      <td>0</td>\n",
       "      <td>1</td>\n",
       "      <td>0</td>\n",
       "      <td>1</td>\n",
       "      <td>0</td>\n",
       "      <td>0</td>\n",
       "    </tr>\n",
       "    <tr>\n",
       "      <th>5307</th>\n",
       "      <td>0</td>\n",
       "      <td>0</td>\n",
       "      <td>1</td>\n",
       "      <td>0</td>\n",
       "      <td>0</td>\n",
       "      <td>0</td>\n",
       "      <td>0</td>\n",
       "      <td>0</td>\n",
       "      <td>0</td>\n",
       "      <td>0</td>\n",
       "      <td>1</td>\n",
       "      <td>0</td>\n",
       "      <td>0</td>\n",
       "      <td>0</td>\n",
       "      <td>0</td>\n",
       "      <td>0</td>\n",
       "      <td>0</td>\n",
       "      <td>0</td>\n",
       "      <td>0</td>\n",
       "      <td>0</td>\n",
       "    </tr>\n",
       "    <tr>\n",
       "      <th>5990</th>\n",
       "      <td>1</td>\n",
       "      <td>0</td>\n",
       "      <td>0</td>\n",
       "      <td>0</td>\n",
       "      <td>0</td>\n",
       "      <td>0</td>\n",
       "      <td>0</td>\n",
       "      <td>0</td>\n",
       "      <td>0</td>\n",
       "      <td>0</td>\n",
       "      <td>0</td>\n",
       "      <td>0</td>\n",
       "      <td>0</td>\n",
       "      <td>0</td>\n",
       "      <td>0</td>\n",
       "      <td>0</td>\n",
       "      <td>0</td>\n",
       "      <td>0</td>\n",
       "      <td>1</td>\n",
       "      <td>0</td>\n",
       "    </tr>\n",
       "    <tr>\n",
       "      <th>7787</th>\n",
       "      <td>1</td>\n",
       "      <td>0</td>\n",
       "      <td>0</td>\n",
       "      <td>0</td>\n",
       "      <td>0</td>\n",
       "      <td>0</td>\n",
       "      <td>0</td>\n",
       "      <td>0</td>\n",
       "      <td>0</td>\n",
       "      <td>0</td>\n",
       "      <td>0</td>\n",
       "      <td>0</td>\n",
       "      <td>0</td>\n",
       "      <td>0</td>\n",
       "      <td>0</td>\n",
       "      <td>0</td>\n",
       "      <td>0</td>\n",
       "      <td>0</td>\n",
       "      <td>1</td>\n",
       "      <td>0</td>\n",
       "    </tr>\n",
       "  </tbody>\n",
       "</table>\n",
       "</div>"
      ]
     },
     "execution_count": 69,
     "metadata": {},
     "output_type": "execute_result"
    }
   ],
   "execution_count": 69
  },
  {
   "metadata": {
    "ExecuteTime": {
     "end_time": "2025-02-24T07:05:50.430001Z",
     "start_time": "2025-02-24T07:05:50.387573Z"
    }
   },
   "cell_type": "code",
   "source": [
    "model = DecisionTreeRegressor(max_depth=10,random_state=42)\n",
    "model.fit(X_1,y_1)\n",
    "print(mean_squared_error(model.predict(X_test),y_test))"
   ],
   "id": "6918d192a4b83a5a",
   "outputs": [
    {
     "name": "stdout",
     "output_type": "stream",
     "text": [
      "0.5468541227981384\n"
     ]
    }
   ],
   "execution_count": 70
  },
  {
   "metadata": {
    "ExecuteTime": {
     "end_time": "2025-02-24T07:05:50.445002Z",
     "start_time": "2025-02-24T07:05:50.432003Z"
    }
   },
   "cell_type": "code",
   "source": "print(mean_squared_error(model.predict(X_test),y_validation))\n",
   "id": "92f7a0df67b6ef43",
   "outputs": [
    {
     "name": "stdout",
     "output_type": "stream",
     "text": [
      "0.6420469572250624\n"
     ]
    }
   ],
   "execution_count": 71
  },
  {
   "metadata": {
    "ExecuteTime": {
     "end_time": "2025-02-25T15:26:08.237316Z",
     "start_time": "2025-02-25T15:26:07.449578Z"
    }
   },
   "cell_type": "code",
   "source": [
    "tree_params = {'max_depth':[3,5,10]}\n",
    "DTCG = GridSearchCV(DecisionTreeRegressor(random_state=42), tree_params, cv=5,scoring='neg_mean_squared_error'  )\n",
    "DTCG.fit(X_1,y_1)\n",
    "DTC=DTCG.best_estimator_\n",
    "score=DTCG.best_score_\n",
    "print(score)"
   ],
   "id": "e52314a49d8d36dc",
   "outputs": [
    {
     "name": "stdout",
     "output_type": "stream",
     "text": [
      "-0.5840912333176995\n"
     ]
    }
   ],
   "execution_count": 107
  },
  {
   "metadata": {
    "ExecuteTime": {
     "end_time": "2025-02-25T13:26:06.344083Z",
     "start_time": "2025-02-25T13:26:06.302032Z"
    }
   },
   "cell_type": "code",
   "source": [
    "\n",
    "mean_squared_error(DTC.predict(X_validation),y_validation)\n"
   ],
   "id": "7aa4ef913d3634f1",
   "outputs": [
    {
     "data": {
      "text/plain": [
       "0.6285092705324791"
      ]
     },
     "execution_count": 90,
     "metadata": {},
     "output_type": "execute_result"
    }
   ],
   "execution_count": 90
  },
  {
   "metadata": {
    "ExecuteTime": {
     "end_time": "2025-02-24T07:05:50.834921Z",
     "start_time": "2025-02-24T07:05:50.820922Z"
    }
   },
   "cell_type": "code",
   "source": "mean_squared_error(DTC.predict(X_test),y_test)",
   "id": "aa5577d34fdb231c",
   "outputs": [
    {
     "data": {
      "text/plain": [
       "0.5717914257637114"
      ]
     },
     "execution_count": 74,
     "metadata": {},
     "output_type": "execute_result"
    }
   ],
   "execution_count": 74
  },
  {
   "metadata": {
    "ExecuteTime": {
     "end_time": "2025-02-24T07:05:50.850067Z",
     "start_time": "2025-02-24T07:05:50.838062Z"
    }
   },
   "cell_type": "code",
   "source": "mean_squared_error(DTCG.predict(X_test),y_test)\n",
   "id": "1ce9d79e8b07bb5a",
   "outputs": [
    {
     "data": {
      "text/plain": [
       "0.5717914257637114"
      ]
     },
     "execution_count": 75,
     "metadata": {},
     "output_type": "execute_result"
    }
   ],
   "execution_count": 75
  },
  {
   "metadata": {
    "ExecuteTime": {
     "end_time": "2025-02-24T07:05:50.865289Z",
     "start_time": "2025-02-24T07:05:50.853196Z"
    }
   },
   "cell_type": "code",
   "source": "x.shape",
   "id": "840611aff2876be8",
   "outputs": [
    {
     "data": {
      "text/plain": [
       "(26744,)"
      ]
     },
     "execution_count": 76,
     "metadata": {},
     "output_type": "execute_result"
    }
   ],
   "execution_count": 76
  },
  {
   "metadata": {
    "ExecuteTime": {
     "end_time": "2025-02-24T07:05:50.880810Z",
     "start_time": "2025-02-24T07:05:50.867292Z"
    }
   },
   "cell_type": "code",
   "source": "DTCG.best_params_",
   "id": "8bc0b42e72bf8ca7",
   "outputs": [
    {
     "data": {
      "text/plain": [
       "{'max_depth': 5}"
      ]
     },
     "execution_count": 77,
     "metadata": {},
     "output_type": "execute_result"
    }
   ],
   "execution_count": 77
  },
  {
   "metadata": {
    "ExecuteTime": {
     "end_time": "2025-02-24T07:05:50.896869Z",
     "start_time": "2025-02-24T07:05:50.882810Z"
    }
   },
   "cell_type": "code",
   "source": "X.shape",
   "id": "7ba9538f0d4b0882",
   "outputs": [
    {
     "data": {
      "text/plain": [
       "(27278, 20)"
      ]
     },
     "execution_count": 78,
     "metadata": {},
     "output_type": "execute_result"
    }
   ],
   "execution_count": 78
  },
  {
   "metadata": {
    "ExecuteTime": {
     "end_time": "2025-02-25T13:28:42.474529Z",
     "start_time": "2025-02-25T13:28:42.370604Z"
    }
   },
   "cell_type": "code",
   "source": "y.head()",
   "id": "b30ef1242bcb4e5e",
   "outputs": [
    {
     "data": {
      "text/plain": [
       "0     3.92124\n",
       "1    3.211977\n",
       "2     3.15104\n",
       "3    2.861393\n",
       "4    3.064592\n",
       "Name: rating, dtype: object"
      ]
     },
     "execution_count": 91,
     "metadata": {},
     "output_type": "execute_result"
    }
   ],
   "execution_count": 91
  },
  {
   "metadata": {
    "ExecuteTime": {
     "end_time": "2025-02-25T13:31:08.859470Z",
     "start_time": "2025-02-25T13:31:08.739379Z"
    }
   },
   "cell_type": "code",
   "source": "type(y_test)",
   "id": "2f99996af4c35787",
   "outputs": [
    {
     "data": {
      "text/plain": [
       "pandas.core.series.Series"
      ]
     },
     "execution_count": 92,
     "metadata": {},
     "output_type": "execute_result"
    }
   ],
   "execution_count": 92
  },
  {
   "metadata": {
    "ExecuteTime": {
     "end_time": "2025-02-25T13:31:34.970851Z",
     "start_time": "2025-02-25T13:31:34.888121Z"
    }
   },
   "cell_type": "code",
   "source": "y_pred_1=y_test.copy()",
   "id": "c2b745d1d617075f",
   "outputs": [],
   "execution_count": 93
  },
  {
   "metadata": {
    "ExecuteTime": {
     "end_time": "2025-02-25T13:36:08.273603Z",
     "start_time": "2025-02-25T13:36:08.223059Z"
    }
   },
   "cell_type": "code",
   "source": "np.mean(y_test.values)",
   "id": "21b666f432770906",
   "outputs": [
    {
     "ename": "TypeError",
     "evalue": "unsupported operand type(s) for +: 'float' and 'str'",
     "output_type": "error",
     "traceback": [
      "\u001B[1;31m---------------------------------------------------------------------------\u001B[0m",
      "\u001B[1;31mTypeError\u001B[0m                                 Traceback (most recent call last)",
      "Cell \u001B[1;32mIn[103], line 1\u001B[0m\n\u001B[1;32m----> 1\u001B[0m \u001B[43mnp\u001B[49m\u001B[38;5;241;43m.\u001B[39;49m\u001B[43mmean\u001B[49m\u001B[43m(\u001B[49m\u001B[43my_test\u001B[49m\u001B[38;5;241;43m.\u001B[39;49m\u001B[43mvalues\u001B[49m\u001B[43m)\u001B[49m\n",
      "File \u001B[1;32m~\\miniconda3\\envs\\ml-labs\\lib\\site-packages\\numpy\\core\\fromnumeric.py:3504\u001B[0m, in \u001B[0;36mmean\u001B[1;34m(a, axis, dtype, out, keepdims, where)\u001B[0m\n\u001B[0;32m   3501\u001B[0m     \u001B[38;5;28;01melse\u001B[39;00m:\n\u001B[0;32m   3502\u001B[0m         \u001B[38;5;28;01mreturn\u001B[39;00m mean(axis\u001B[38;5;241m=\u001B[39maxis, dtype\u001B[38;5;241m=\u001B[39mdtype, out\u001B[38;5;241m=\u001B[39mout, \u001B[38;5;241m*\u001B[39m\u001B[38;5;241m*\u001B[39mkwargs)\n\u001B[1;32m-> 3504\u001B[0m \u001B[38;5;28;01mreturn\u001B[39;00m _methods\u001B[38;5;241m.\u001B[39m_mean(a, axis\u001B[38;5;241m=\u001B[39maxis, dtype\u001B[38;5;241m=\u001B[39mdtype,\n\u001B[0;32m   3505\u001B[0m                       out\u001B[38;5;241m=\u001B[39mout, \u001B[38;5;241m*\u001B[39m\u001B[38;5;241m*\u001B[39mkwargs)\n",
      "File \u001B[1;32m~\\miniconda3\\envs\\ml-labs\\lib\\site-packages\\numpy\\core\\_methods.py:118\u001B[0m, in \u001B[0;36m_mean\u001B[1;34m(a, axis, dtype, out, keepdims, where)\u001B[0m\n\u001B[0;32m    115\u001B[0m         dtype \u001B[38;5;241m=\u001B[39m mu\u001B[38;5;241m.\u001B[39mdtype(\u001B[38;5;124m'\u001B[39m\u001B[38;5;124mf4\u001B[39m\u001B[38;5;124m'\u001B[39m)\n\u001B[0;32m    116\u001B[0m         is_float16_result \u001B[38;5;241m=\u001B[39m \u001B[38;5;28;01mTrue\u001B[39;00m\n\u001B[1;32m--> 118\u001B[0m ret \u001B[38;5;241m=\u001B[39m \u001B[43mumr_sum\u001B[49m\u001B[43m(\u001B[49m\u001B[43marr\u001B[49m\u001B[43m,\u001B[49m\u001B[43m \u001B[49m\u001B[43maxis\u001B[49m\u001B[43m,\u001B[49m\u001B[43m \u001B[49m\u001B[43mdtype\u001B[49m\u001B[43m,\u001B[49m\u001B[43m \u001B[49m\u001B[43mout\u001B[49m\u001B[43m,\u001B[49m\u001B[43m \u001B[49m\u001B[43mkeepdims\u001B[49m\u001B[43m,\u001B[49m\u001B[43m \u001B[49m\u001B[43mwhere\u001B[49m\u001B[38;5;241;43m=\u001B[39;49m\u001B[43mwhere\u001B[49m\u001B[43m)\u001B[49m\n\u001B[0;32m    119\u001B[0m \u001B[38;5;28;01mif\u001B[39;00m \u001B[38;5;28misinstance\u001B[39m(ret, mu\u001B[38;5;241m.\u001B[39mndarray):\n\u001B[0;32m    120\u001B[0m     \u001B[38;5;28;01mwith\u001B[39;00m _no_nep50_warning():\n",
      "\u001B[1;31mTypeError\u001B[0m: unsupported operand type(s) for +: 'float' and 'str'"
     ]
    }
   ],
   "execution_count": 103
  },
  {
   "metadata": {
    "ExecuteTime": {
     "end_time": "2025-02-25T13:35:14.255313Z",
     "start_time": "2025-02-25T13:35:14.027641Z"
    }
   },
   "cell_type": "code",
   "source": "np.mean(y_test.value)",
   "id": "aadedd081b42b60d",
   "outputs": [
    {
     "ename": "TypeError",
     "evalue": "unsupported operand type(s) for +: 'float' and 'str'",
     "output_type": "error",
     "traceback": [
      "\u001B[1;31m---------------------------------------------------------------------------\u001B[0m",
      "\u001B[1;31mTypeError\u001B[0m                                 Traceback (most recent call last)",
      "Cell \u001B[1;32mIn[100], line 1\u001B[0m\n\u001B[1;32m----> 1\u001B[0m \u001B[43mnp\u001B[49m\u001B[38;5;241;43m.\u001B[39;49m\u001B[43mmean\u001B[49m\u001B[43m(\u001B[49m\u001B[43my_test\u001B[49m\u001B[38;5;241;43m.\u001B[39;49m\u001B[43mvalues\u001B[49m\u001B[43m)\u001B[49m\n",
      "File \u001B[1;32m~\\miniconda3\\envs\\ml-labs\\lib\\site-packages\\numpy\\core\\fromnumeric.py:3504\u001B[0m, in \u001B[0;36mmean\u001B[1;34m(a, axis, dtype, out, keepdims, where)\u001B[0m\n\u001B[0;32m   3501\u001B[0m     \u001B[38;5;28;01melse\u001B[39;00m:\n\u001B[0;32m   3502\u001B[0m         \u001B[38;5;28;01mreturn\u001B[39;00m mean(axis\u001B[38;5;241m=\u001B[39maxis, dtype\u001B[38;5;241m=\u001B[39mdtype, out\u001B[38;5;241m=\u001B[39mout, \u001B[38;5;241m*\u001B[39m\u001B[38;5;241m*\u001B[39mkwargs)\n\u001B[1;32m-> 3504\u001B[0m \u001B[38;5;28;01mreturn\u001B[39;00m _methods\u001B[38;5;241m.\u001B[39m_mean(a, axis\u001B[38;5;241m=\u001B[39maxis, dtype\u001B[38;5;241m=\u001B[39mdtype,\n\u001B[0;32m   3505\u001B[0m                       out\u001B[38;5;241m=\u001B[39mout, \u001B[38;5;241m*\u001B[39m\u001B[38;5;241m*\u001B[39mkwargs)\n",
      "File \u001B[1;32m~\\miniconda3\\envs\\ml-labs\\lib\\site-packages\\numpy\\core\\_methods.py:118\u001B[0m, in \u001B[0;36m_mean\u001B[1;34m(a, axis, dtype, out, keepdims, where)\u001B[0m\n\u001B[0;32m    115\u001B[0m         dtype \u001B[38;5;241m=\u001B[39m mu\u001B[38;5;241m.\u001B[39mdtype(\u001B[38;5;124m'\u001B[39m\u001B[38;5;124mf4\u001B[39m\u001B[38;5;124m'\u001B[39m)\n\u001B[0;32m    116\u001B[0m         is_float16_result \u001B[38;5;241m=\u001B[39m \u001B[38;5;28;01mTrue\u001B[39;00m\n\u001B[1;32m--> 118\u001B[0m ret \u001B[38;5;241m=\u001B[39m \u001B[43mumr_sum\u001B[49m\u001B[43m(\u001B[49m\u001B[43marr\u001B[49m\u001B[43m,\u001B[49m\u001B[43m \u001B[49m\u001B[43maxis\u001B[49m\u001B[43m,\u001B[49m\u001B[43m \u001B[49m\u001B[43mdtype\u001B[49m\u001B[43m,\u001B[49m\u001B[43m \u001B[49m\u001B[43mout\u001B[49m\u001B[43m,\u001B[49m\u001B[43m \u001B[49m\u001B[43mkeepdims\u001B[49m\u001B[43m,\u001B[49m\u001B[43m \u001B[49m\u001B[43mwhere\u001B[49m\u001B[38;5;241;43m=\u001B[39;49m\u001B[43mwhere\u001B[49m\u001B[43m)\u001B[49m\n\u001B[0;32m    119\u001B[0m \u001B[38;5;28;01mif\u001B[39;00m \u001B[38;5;28misinstance\u001B[39m(ret, mu\u001B[38;5;241m.\u001B[39mndarray):\n\u001B[0;32m    120\u001B[0m     \u001B[38;5;28;01mwith\u001B[39;00m _no_nep50_warning():\n",
      "\u001B[1;31mTypeError\u001B[0m: unsupported operand type(s) for +: 'float' and 'str'"
     ]
    }
   ],
   "execution_count": 100
  },
  {
   "metadata": {
    "ExecuteTime": {
     "end_time": "2025-02-25T13:37:15.295010Z",
     "start_time": "2025-02-25T13:37:14.641977Z"
    }
   },
   "cell_type": "code",
   "source": "y_test.mean()",
   "id": "dcc7ade9b38a22a8",
   "outputs": [
    {
     "ename": "TypeError",
     "evalue": "unsupported operand type(s) for +: 'float' and 'str'",
     "output_type": "error",
     "traceback": [
      "\u001B[1;31m---------------------------------------------------------------------------\u001B[0m",
      "\u001B[1;31mTypeError\u001B[0m                                 Traceback (most recent call last)",
      "Cell \u001B[1;32mIn[104], line 1\u001B[0m\n\u001B[1;32m----> 1\u001B[0m \u001B[43my_test\u001B[49m\u001B[38;5;241;43m.\u001B[39;49m\u001B[43mmean\u001B[49m\u001B[43m(\u001B[49m\u001B[43m)\u001B[49m\n",
      "File \u001B[1;32m~\\miniconda3\\envs\\ml-labs\\lib\\site-packages\\pandas\\core\\series.py:6549\u001B[0m, in \u001B[0;36mSeries.mean\u001B[1;34m(self, axis, skipna, numeric_only, **kwargs)\u001B[0m\n\u001B[0;32m   6541\u001B[0m \u001B[38;5;129m@doc\u001B[39m(make_doc(\u001B[38;5;124m\"\u001B[39m\u001B[38;5;124mmean\u001B[39m\u001B[38;5;124m\"\u001B[39m, ndim\u001B[38;5;241m=\u001B[39m\u001B[38;5;241m1\u001B[39m))\n\u001B[0;32m   6542\u001B[0m \u001B[38;5;28;01mdef\u001B[39;00m \u001B[38;5;21mmean\u001B[39m(\n\u001B[0;32m   6543\u001B[0m     \u001B[38;5;28mself\u001B[39m,\n\u001B[1;32m   (...)\u001B[0m\n\u001B[0;32m   6547\u001B[0m     \u001B[38;5;241m*\u001B[39m\u001B[38;5;241m*\u001B[39mkwargs,\n\u001B[0;32m   6548\u001B[0m ):\n\u001B[1;32m-> 6549\u001B[0m     \u001B[38;5;28;01mreturn\u001B[39;00m NDFrame\u001B[38;5;241m.\u001B[39mmean(\u001B[38;5;28mself\u001B[39m, axis, skipna, numeric_only, \u001B[38;5;241m*\u001B[39m\u001B[38;5;241m*\u001B[39mkwargs)\n",
      "File \u001B[1;32m~\\miniconda3\\envs\\ml-labs\\lib\\site-packages\\pandas\\core\\generic.py:12420\u001B[0m, in \u001B[0;36mNDFrame.mean\u001B[1;34m(self, axis, skipna, numeric_only, **kwargs)\u001B[0m\n\u001B[0;32m  12413\u001B[0m \u001B[38;5;28;01mdef\u001B[39;00m \u001B[38;5;21mmean\u001B[39m(\n\u001B[0;32m  12414\u001B[0m     \u001B[38;5;28mself\u001B[39m,\n\u001B[0;32m  12415\u001B[0m     axis: Axis \u001B[38;5;241m|\u001B[39m \u001B[38;5;28;01mNone\u001B[39;00m \u001B[38;5;241m=\u001B[39m \u001B[38;5;241m0\u001B[39m,\n\u001B[1;32m   (...)\u001B[0m\n\u001B[0;32m  12418\u001B[0m     \u001B[38;5;241m*\u001B[39m\u001B[38;5;241m*\u001B[39mkwargs,\n\u001B[0;32m  12419\u001B[0m ) \u001B[38;5;241m-\u001B[39m\u001B[38;5;241m>\u001B[39m Series \u001B[38;5;241m|\u001B[39m \u001B[38;5;28mfloat\u001B[39m:\n\u001B[1;32m> 12420\u001B[0m     \u001B[38;5;28;01mreturn\u001B[39;00m \u001B[38;5;28mself\u001B[39m\u001B[38;5;241m.\u001B[39m_stat_function(\n\u001B[0;32m  12421\u001B[0m         \u001B[38;5;124m\"\u001B[39m\u001B[38;5;124mmean\u001B[39m\u001B[38;5;124m\"\u001B[39m, nanops\u001B[38;5;241m.\u001B[39mnanmean, axis, skipna, numeric_only, \u001B[38;5;241m*\u001B[39m\u001B[38;5;241m*\u001B[39mkwargs\n\u001B[0;32m  12422\u001B[0m     )\n",
      "File \u001B[1;32m~\\miniconda3\\envs\\ml-labs\\lib\\site-packages\\pandas\\core\\generic.py:12377\u001B[0m, in \u001B[0;36mNDFrame._stat_function\u001B[1;34m(self, name, func, axis, skipna, numeric_only, **kwargs)\u001B[0m\n\u001B[0;32m  12373\u001B[0m nv\u001B[38;5;241m.\u001B[39mvalidate_func(name, (), kwargs)\n\u001B[0;32m  12375\u001B[0m validate_bool_kwarg(skipna, \u001B[38;5;124m\"\u001B[39m\u001B[38;5;124mskipna\u001B[39m\u001B[38;5;124m\"\u001B[39m, none_allowed\u001B[38;5;241m=\u001B[39m\u001B[38;5;28;01mFalse\u001B[39;00m)\n\u001B[1;32m> 12377\u001B[0m \u001B[38;5;28;01mreturn\u001B[39;00m \u001B[38;5;28;43mself\u001B[39;49m\u001B[38;5;241;43m.\u001B[39;49m\u001B[43m_reduce\u001B[49m\u001B[43m(\u001B[49m\n\u001B[0;32m  12378\u001B[0m \u001B[43m    \u001B[49m\u001B[43mfunc\u001B[49m\u001B[43m,\u001B[49m\u001B[43m \u001B[49m\u001B[43mname\u001B[49m\u001B[38;5;241;43m=\u001B[39;49m\u001B[43mname\u001B[49m\u001B[43m,\u001B[49m\u001B[43m \u001B[49m\u001B[43maxis\u001B[49m\u001B[38;5;241;43m=\u001B[39;49m\u001B[43maxis\u001B[49m\u001B[43m,\u001B[49m\u001B[43m \u001B[49m\u001B[43mskipna\u001B[49m\u001B[38;5;241;43m=\u001B[39;49m\u001B[43mskipna\u001B[49m\u001B[43m,\u001B[49m\u001B[43m \u001B[49m\u001B[43mnumeric_only\u001B[49m\u001B[38;5;241;43m=\u001B[39;49m\u001B[43mnumeric_only\u001B[49m\n\u001B[0;32m  12379\u001B[0m \u001B[43m\u001B[49m\u001B[43m)\u001B[49m\n",
      "File \u001B[1;32m~\\miniconda3\\envs\\ml-labs\\lib\\site-packages\\pandas\\core\\series.py:6457\u001B[0m, in \u001B[0;36mSeries._reduce\u001B[1;34m(self, op, name, axis, skipna, numeric_only, filter_type, **kwds)\u001B[0m\n\u001B[0;32m   6452\u001B[0m     \u001B[38;5;66;03m# GH#47500 - change to TypeError to match other methods\u001B[39;00m\n\u001B[0;32m   6453\u001B[0m     \u001B[38;5;28;01mraise\u001B[39;00m \u001B[38;5;167;01mTypeError\u001B[39;00m(\n\u001B[0;32m   6454\u001B[0m         \u001B[38;5;124mf\u001B[39m\u001B[38;5;124m\"\u001B[39m\u001B[38;5;124mSeries.\u001B[39m\u001B[38;5;132;01m{\u001B[39;00mname\u001B[38;5;132;01m}\u001B[39;00m\u001B[38;5;124m does not allow \u001B[39m\u001B[38;5;132;01m{\u001B[39;00mkwd_name\u001B[38;5;132;01m}\u001B[39;00m\u001B[38;5;124m=\u001B[39m\u001B[38;5;132;01m{\u001B[39;00mnumeric_only\u001B[38;5;132;01m}\u001B[39;00m\u001B[38;5;124m \u001B[39m\u001B[38;5;124m\"\u001B[39m\n\u001B[0;32m   6455\u001B[0m         \u001B[38;5;124m\"\u001B[39m\u001B[38;5;124mwith non-numeric dtypes.\u001B[39m\u001B[38;5;124m\"\u001B[39m\n\u001B[0;32m   6456\u001B[0m     )\n\u001B[1;32m-> 6457\u001B[0m \u001B[38;5;28;01mreturn\u001B[39;00m op(delegate, skipna\u001B[38;5;241m=\u001B[39mskipna, \u001B[38;5;241m*\u001B[39m\u001B[38;5;241m*\u001B[39mkwds)\n",
      "File \u001B[1;32m~\\miniconda3\\envs\\ml-labs\\lib\\site-packages\\pandas\\core\\nanops.py:147\u001B[0m, in \u001B[0;36mbottleneck_switch.__call__.<locals>.f\u001B[1;34m(values, axis, skipna, **kwds)\u001B[0m\n\u001B[0;32m    145\u001B[0m         result \u001B[38;5;241m=\u001B[39m alt(values, axis\u001B[38;5;241m=\u001B[39maxis, skipna\u001B[38;5;241m=\u001B[39mskipna, \u001B[38;5;241m*\u001B[39m\u001B[38;5;241m*\u001B[39mkwds)\n\u001B[0;32m    146\u001B[0m \u001B[38;5;28;01melse\u001B[39;00m:\n\u001B[1;32m--> 147\u001B[0m     result \u001B[38;5;241m=\u001B[39m alt(values, axis\u001B[38;5;241m=\u001B[39maxis, skipna\u001B[38;5;241m=\u001B[39mskipna, \u001B[38;5;241m*\u001B[39m\u001B[38;5;241m*\u001B[39mkwds)\n\u001B[0;32m    149\u001B[0m \u001B[38;5;28;01mreturn\u001B[39;00m result\n",
      "File \u001B[1;32m~\\miniconda3\\envs\\ml-labs\\lib\\site-packages\\pandas\\core\\nanops.py:404\u001B[0m, in \u001B[0;36m_datetimelike_compat.<locals>.new_func\u001B[1;34m(values, axis, skipna, mask, **kwargs)\u001B[0m\n\u001B[0;32m    401\u001B[0m \u001B[38;5;28;01mif\u001B[39;00m datetimelike \u001B[38;5;129;01mand\u001B[39;00m mask \u001B[38;5;129;01mis\u001B[39;00m \u001B[38;5;28;01mNone\u001B[39;00m:\n\u001B[0;32m    402\u001B[0m     mask \u001B[38;5;241m=\u001B[39m isna(values)\n\u001B[1;32m--> 404\u001B[0m result \u001B[38;5;241m=\u001B[39m func(values, axis\u001B[38;5;241m=\u001B[39maxis, skipna\u001B[38;5;241m=\u001B[39mskipna, mask\u001B[38;5;241m=\u001B[39mmask, \u001B[38;5;241m*\u001B[39m\u001B[38;5;241m*\u001B[39mkwargs)\n\u001B[0;32m    406\u001B[0m \u001B[38;5;28;01mif\u001B[39;00m datetimelike:\n\u001B[0;32m    407\u001B[0m     result \u001B[38;5;241m=\u001B[39m _wrap_results(result, orig_values\u001B[38;5;241m.\u001B[39mdtype, fill_value\u001B[38;5;241m=\u001B[39miNaT)\n",
      "File \u001B[1;32m~\\miniconda3\\envs\\ml-labs\\lib\\site-packages\\pandas\\core\\nanops.py:719\u001B[0m, in \u001B[0;36mnanmean\u001B[1;34m(values, axis, skipna, mask)\u001B[0m\n\u001B[0;32m    716\u001B[0m     dtype_count \u001B[38;5;241m=\u001B[39m dtype\n\u001B[0;32m    718\u001B[0m count \u001B[38;5;241m=\u001B[39m _get_counts(values\u001B[38;5;241m.\u001B[39mshape, mask, axis, dtype\u001B[38;5;241m=\u001B[39mdtype_count)\n\u001B[1;32m--> 719\u001B[0m the_sum \u001B[38;5;241m=\u001B[39m \u001B[43mvalues\u001B[49m\u001B[38;5;241;43m.\u001B[39;49m\u001B[43msum\u001B[49m\u001B[43m(\u001B[49m\u001B[43maxis\u001B[49m\u001B[43m,\u001B[49m\u001B[43m \u001B[49m\u001B[43mdtype\u001B[49m\u001B[38;5;241;43m=\u001B[39;49m\u001B[43mdtype_sum\u001B[49m\u001B[43m)\u001B[49m\n\u001B[0;32m    720\u001B[0m the_sum \u001B[38;5;241m=\u001B[39m _ensure_numeric(the_sum)\n\u001B[0;32m    722\u001B[0m \u001B[38;5;28;01mif\u001B[39;00m axis \u001B[38;5;129;01mis\u001B[39;00m \u001B[38;5;129;01mnot\u001B[39;00m \u001B[38;5;28;01mNone\u001B[39;00m \u001B[38;5;129;01mand\u001B[39;00m \u001B[38;5;28mgetattr\u001B[39m(the_sum, \u001B[38;5;124m\"\u001B[39m\u001B[38;5;124mndim\u001B[39m\u001B[38;5;124m\"\u001B[39m, \u001B[38;5;28;01mFalse\u001B[39;00m):\n",
      "File \u001B[1;32m~\\miniconda3\\envs\\ml-labs\\lib\\site-packages\\numpy\\core\\_methods.py:49\u001B[0m, in \u001B[0;36m_sum\u001B[1;34m(a, axis, dtype, out, keepdims, initial, where)\u001B[0m\n\u001B[0;32m     47\u001B[0m \u001B[38;5;28;01mdef\u001B[39;00m \u001B[38;5;21m_sum\u001B[39m(a, axis\u001B[38;5;241m=\u001B[39m\u001B[38;5;28;01mNone\u001B[39;00m, dtype\u001B[38;5;241m=\u001B[39m\u001B[38;5;28;01mNone\u001B[39;00m, out\u001B[38;5;241m=\u001B[39m\u001B[38;5;28;01mNone\u001B[39;00m, keepdims\u001B[38;5;241m=\u001B[39m\u001B[38;5;28;01mFalse\u001B[39;00m,\n\u001B[0;32m     48\u001B[0m          initial\u001B[38;5;241m=\u001B[39m_NoValue, where\u001B[38;5;241m=\u001B[39m\u001B[38;5;28;01mTrue\u001B[39;00m):\n\u001B[1;32m---> 49\u001B[0m     \u001B[38;5;28;01mreturn\u001B[39;00m \u001B[43mumr_sum\u001B[49m\u001B[43m(\u001B[49m\u001B[43ma\u001B[49m\u001B[43m,\u001B[49m\u001B[43m \u001B[49m\u001B[43maxis\u001B[49m\u001B[43m,\u001B[49m\u001B[43m \u001B[49m\u001B[43mdtype\u001B[49m\u001B[43m,\u001B[49m\u001B[43m \u001B[49m\u001B[43mout\u001B[49m\u001B[43m,\u001B[49m\u001B[43m \u001B[49m\u001B[43mkeepdims\u001B[49m\u001B[43m,\u001B[49m\u001B[43m \u001B[49m\u001B[43minitial\u001B[49m\u001B[43m,\u001B[49m\u001B[43m \u001B[49m\u001B[43mwhere\u001B[49m\u001B[43m)\u001B[49m\n",
      "\u001B[1;31mTypeError\u001B[0m: unsupported operand type(s) for +: 'float' and 'str'"
     ]
    }
   ],
   "execution_count": 104
  },
  {
   "metadata": {},
   "cell_type": "code",
   "outputs": [],
   "execution_count": null,
   "source": "mean_squared_error(y_test, ",
   "id": "aa919054e2821214"
  }
 ],
 "metadata": {
  "kernelspec": {
   "display_name": "Python 3",
   "language": "python",
   "name": "python3"
  },
  "language_info": {
   "codemirror_mode": {
    "name": "ipython",
    "version": 2
   },
   "file_extension": ".py",
   "mimetype": "text/x-python",
   "name": "python",
   "nbconvert_exporter": "python",
   "pygments_lexer": "ipython2",
   "version": "2.7.6"
  }
 },
 "nbformat": 4,
 "nbformat_minor": 5
}
