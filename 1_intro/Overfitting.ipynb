{
 "cells": [
  {
   "cell_type": "code",
   "id": "initial_id",
   "metadata": {
    "collapsed": true,
    "ExecuteTime": {
     "end_time": "2025-02-17T06:29:48.399247Z",
     "start_time": "2025-02-17T06:29:48.390945Z"
    }
   },
   "source": [
    "#data analysis libraries \n",
    "import numpy as np\n",
    "import pandas as pd\n",
    "from sklearn.model_selection import GridSearchCV\n",
    "#visualization libraries\n",
    "import matplotlib.pyplot as plt\n",
    "import seaborn as sns\n",
    "%matplotlib inline\n",
    "#ignore warnings\n",
    "import warnings\n",
    "\n",
    "warnings.filterwarnings('ignore')"
   ],
   "outputs": [],
   "execution_count": 14
  },
  {
   "metadata": {
    "ExecuteTime": {
     "end_time": "2025-02-17T06:29:48.735548Z",
     "start_time": "2025-02-17T06:29:48.719606Z"
    }
   },
   "cell_type": "code",
   "source": "# https://aigamer28100.github.io/Movie-Lens-Dataset-Visualization-and-Prediction/",
   "id": "9824f5d031a12b2",
   "outputs": [],
   "execution_count": 15
  },
  {
   "metadata": {
    "ExecuteTime": {
     "end_time": "2025-02-17T06:30:02.978569Z",
     "start_time": "2025-02-17T06:29:49.269438Z"
    }
   },
   "cell_type": "code",
   "source": [
    "mldir=\"../data/ml-20m/\"\n",
    "\n",
    "#import train and test CSV files\n",
    "movie = pd.read_csv(mldir+\"movies.csv\")\n",
    "ratings = pd.read_csv(mldir+\"ratings.csv\")\n",
    "links = pd.read_csv(mldir+\"links.csv\")\n",
    "tags = pd.read_csv(mldir+\"tags.csv\")\n",
    "#take a look at the training data\n",
    "print(movie.shape)\n",
    "print(ratings.shape)\n",
    "print(links.shape)\n",
    "print(tags.shape,end=\"\\n\\n\")\n",
    "#m=pd.read_csv(\"movies.csv\")\n"
   ],
   "id": "963c0b29cd57dc3e",
   "outputs": [
    {
     "name": "stdout",
     "output_type": "stream",
     "text": [
      "(27278, 3)\n",
      "(20000263, 4)\n",
      "(27278, 3)\n",
      "(465564, 4)\n",
      "\n"
     ]
    }
   ],
   "execution_count": 16
  },
  {
   "metadata": {
    "ExecuteTime": {
     "end_time": "2025-02-17T06:30:03.070779Z",
     "start_time": "2025-02-17T06:30:02.980713Z"
    }
   },
   "cell_type": "code",
   "source": [
    "\n",
    "#get a list of the features within the dataset\n",
    "print(\"Movie : \", movie.columns,end=\"\\n\\n\")\n",
    "print(\"Rating : \", ratings.columns,end=\"\\n\\n\")\n",
    "print(\"Links : \", links.columns,end=\"\\n\\n\")\n",
    "print(\"Tags : \", tags.columns,end=\"\\n\\n\")\n",
    "\n",
    "movie.info()\n",
    "ratings.info()\n",
    "tags.info()"
   ],
   "id": "2e37ef67f34556f6",
   "outputs": [
    {
     "name": "stdout",
     "output_type": "stream",
     "text": [
      "Movie :  Index(['movieId', 'title', 'genres'], dtype='object')\n",
      "\n",
      "Rating :  Index(['userId', 'movieId', 'rating', 'timestamp'], dtype='object')\n",
      "\n",
      "Links :  Index(['movieId', 'imdbId', 'tmdbId'], dtype='object')\n",
      "\n",
      "Tags :  Index(['userId', 'movieId', 'tag', 'timestamp'], dtype='object')\n",
      "\n",
      "<class 'pandas.core.frame.DataFrame'>\n",
      "RangeIndex: 27278 entries, 0 to 27277\n",
      "Data columns (total 3 columns):\n",
      " #   Column   Non-Null Count  Dtype \n",
      "---  ------   --------------  ----- \n",
      " 0   movieId  27278 non-null  int64 \n",
      " 1   title    27278 non-null  object\n",
      " 2   genres   27278 non-null  object\n",
      "dtypes: int64(1), object(2)\n",
      "memory usage: 639.5+ KB\n",
      "<class 'pandas.core.frame.DataFrame'>\n",
      "RangeIndex: 20000263 entries, 0 to 20000262\n",
      "Data columns (total 4 columns):\n",
      " #   Column     Dtype  \n",
      "---  ------     -----  \n",
      " 0   userId     int64  \n",
      " 1   movieId    int64  \n",
      " 2   rating     float64\n",
      " 3   timestamp  int64  \n",
      "dtypes: float64(1), int64(3)\n",
      "memory usage: 610.4 MB\n",
      "<class 'pandas.core.frame.DataFrame'>\n",
      "RangeIndex: 465564 entries, 0 to 465563\n",
      "Data columns (total 4 columns):\n",
      " #   Column     Non-Null Count   Dtype \n",
      "---  ------     --------------   ----- \n",
      " 0   userId     465564 non-null  int64 \n",
      " 1   movieId    465564 non-null  int64 \n",
      " 2   tag        465548 non-null  object\n",
      " 3   timestamp  465564 non-null  int64 \n",
      "dtypes: int64(3), object(1)\n",
      "memory usage: 14.2+ MB\n"
     ]
    }
   ],
   "execution_count": 17
  },
  {
   "metadata": {
    "ExecuteTime": {
     "end_time": "2025-02-17T06:30:03.094853Z",
     "start_time": "2025-02-17T06:30:03.070779Z"
    }
   },
   "cell_type": "code",
   "source": [
    "movie.head(3)\n",
    "\n"
   ],
   "id": "b2b0864e0a3be59",
   "outputs": [
    {
     "data": {
      "text/plain": [
       "   movieId                    title  \\\n",
       "0        1         Toy Story (1995)   \n",
       "1        2           Jumanji (1995)   \n",
       "2        3  Grumpier Old Men (1995)   \n",
       "\n",
       "                                        genres  \n",
       "0  Adventure|Animation|Children|Comedy|Fantasy  \n",
       "1                   Adventure|Children|Fantasy  \n",
       "2                               Comedy|Romance  "
      ],
      "text/html": [
       "<div>\n",
       "<style scoped>\n",
       "    .dataframe tbody tr th:only-of-type {\n",
       "        vertical-align: middle;\n",
       "    }\n",
       "\n",
       "    .dataframe tbody tr th {\n",
       "        vertical-align: top;\n",
       "    }\n",
       "\n",
       "    .dataframe thead th {\n",
       "        text-align: right;\n",
       "    }\n",
       "</style>\n",
       "<table border=\"1\" class=\"dataframe\">\n",
       "  <thead>\n",
       "    <tr style=\"text-align: right;\">\n",
       "      <th></th>\n",
       "      <th>movieId</th>\n",
       "      <th>title</th>\n",
       "      <th>genres</th>\n",
       "    </tr>\n",
       "  </thead>\n",
       "  <tbody>\n",
       "    <tr>\n",
       "      <th>0</th>\n",
       "      <td>1</td>\n",
       "      <td>Toy Story (1995)</td>\n",
       "      <td>Adventure|Animation|Children|Comedy|Fantasy</td>\n",
       "    </tr>\n",
       "    <tr>\n",
       "      <th>1</th>\n",
       "      <td>2</td>\n",
       "      <td>Jumanji (1995)</td>\n",
       "      <td>Adventure|Children|Fantasy</td>\n",
       "    </tr>\n",
       "    <tr>\n",
       "      <th>2</th>\n",
       "      <td>3</td>\n",
       "      <td>Grumpier Old Men (1995)</td>\n",
       "      <td>Comedy|Romance</td>\n",
       "    </tr>\n",
       "  </tbody>\n",
       "</table>\n",
       "</div>"
      ]
     },
     "execution_count": 18,
     "metadata": {},
     "output_type": "execute_result"
    }
   ],
   "execution_count": 18
  },
  {
   "metadata": {
    "ExecuteTime": {
     "end_time": "2025-02-17T06:29:32.229345Z",
     "start_time": "2025-02-17T06:29:32.197087Z"
    }
   },
   "cell_type": "code",
   "source": "",
   "id": "3cb400ed502b24d0",
   "outputs": [
    {
     "name": "stdout",
     "output_type": "stream",
     "text": [
      "{'A', ')', 'r', 'R', 'N', '|', ' ', 'v', 'C', 'l', 'y', 'a', '(', 's', 'M', 'u', 'e', 'o', 't', 'D', 'i', 'I', 'c', 'd', 'W', 'S', '-', 'm', 'n', 'H', 'F', 'X', 'g', 'T', 'h'}\n"
     ]
    }
   ],
   "execution_count": 11
  },
  {
   "metadata": {
    "ExecuteTime": {
     "end_time": "2025-02-17T06:30:08.108176Z",
     "start_time": "2025-02-17T06:30:08.084928Z"
    }
   },
   "cell_type": "code",
   "source": "links.head(3)\n",
   "id": "c17d5402d5d802f4",
   "outputs": [
    {
     "data": {
      "text/plain": [
       "   movieId  imdbId   tmdbId\n",
       "0        1  114709    862.0\n",
       "1        2  113497   8844.0\n",
       "2        3  113228  15602.0"
      ],
      "text/html": [
       "<div>\n",
       "<style scoped>\n",
       "    .dataframe tbody tr th:only-of-type {\n",
       "        vertical-align: middle;\n",
       "    }\n",
       "\n",
       "    .dataframe tbody tr th {\n",
       "        vertical-align: top;\n",
       "    }\n",
       "\n",
       "    .dataframe thead th {\n",
       "        text-align: right;\n",
       "    }\n",
       "</style>\n",
       "<table border=\"1\" class=\"dataframe\">\n",
       "  <thead>\n",
       "    <tr style=\"text-align: right;\">\n",
       "      <th></th>\n",
       "      <th>movieId</th>\n",
       "      <th>imdbId</th>\n",
       "      <th>tmdbId</th>\n",
       "    </tr>\n",
       "  </thead>\n",
       "  <tbody>\n",
       "    <tr>\n",
       "      <th>0</th>\n",
       "      <td>1</td>\n",
       "      <td>114709</td>\n",
       "      <td>862.0</td>\n",
       "    </tr>\n",
       "    <tr>\n",
       "      <th>1</th>\n",
       "      <td>2</td>\n",
       "      <td>113497</td>\n",
       "      <td>8844.0</td>\n",
       "    </tr>\n",
       "    <tr>\n",
       "      <th>2</th>\n",
       "      <td>3</td>\n",
       "      <td>113228</td>\n",
       "      <td>15602.0</td>\n",
       "    </tr>\n",
       "  </tbody>\n",
       "</table>\n",
       "</div>"
      ]
     },
     "execution_count": 19,
     "metadata": {},
     "output_type": "execute_result"
    }
   ],
   "execution_count": 19
  },
  {
   "metadata": {
    "ExecuteTime": {
     "end_time": "2025-02-17T06:30:08.448546Z",
     "start_time": "2025-02-17T06:30:08.416378Z"
    }
   },
   "cell_type": "code",
   "source": "ratings.head(3)",
   "id": "f83dc672b1010d1e",
   "outputs": [
    {
     "data": {
      "text/plain": [
       "   userId  movieId  rating   timestamp\n",
       "0       1        2     3.5  1112486027\n",
       "1       1       29     3.5  1112484676\n",
       "2       1       32     3.5  1112484819"
      ],
      "text/html": [
       "<div>\n",
       "<style scoped>\n",
       "    .dataframe tbody tr th:only-of-type {\n",
       "        vertical-align: middle;\n",
       "    }\n",
       "\n",
       "    .dataframe tbody tr th {\n",
       "        vertical-align: top;\n",
       "    }\n",
       "\n",
       "    .dataframe thead th {\n",
       "        text-align: right;\n",
       "    }\n",
       "</style>\n",
       "<table border=\"1\" class=\"dataframe\">\n",
       "  <thead>\n",
       "    <tr style=\"text-align: right;\">\n",
       "      <th></th>\n",
       "      <th>userId</th>\n",
       "      <th>movieId</th>\n",
       "      <th>rating</th>\n",
       "      <th>timestamp</th>\n",
       "    </tr>\n",
       "  </thead>\n",
       "  <tbody>\n",
       "    <tr>\n",
       "      <th>0</th>\n",
       "      <td>1</td>\n",
       "      <td>2</td>\n",
       "      <td>3.5</td>\n",
       "      <td>1112486027</td>\n",
       "    </tr>\n",
       "    <tr>\n",
       "      <th>1</th>\n",
       "      <td>1</td>\n",
       "      <td>29</td>\n",
       "      <td>3.5</td>\n",
       "      <td>1112484676</td>\n",
       "    </tr>\n",
       "    <tr>\n",
       "      <th>2</th>\n",
       "      <td>1</td>\n",
       "      <td>32</td>\n",
       "      <td>3.5</td>\n",
       "      <td>1112484819</td>\n",
       "    </tr>\n",
       "  </tbody>\n",
       "</table>\n",
       "</div>"
      ]
     },
     "execution_count": 20,
     "metadata": {},
     "output_type": "execute_result"
    }
   ],
   "execution_count": 20
  },
  {
   "metadata": {
    "ExecuteTime": {
     "end_time": "2025-02-17T06:30:13.139367Z",
     "start_time": "2025-02-17T06:30:13.123180Z"
    }
   },
   "cell_type": "code",
   "source": "tags.head(3)\n",
   "id": "2956bb89ac1985f4",
   "outputs": [
    {
     "data": {
      "text/plain": [
       "   userId  movieId          tag   timestamp\n",
       "0      18     4141  Mark Waters  1240597180\n",
       "1      65      208    dark hero  1368150078\n",
       "2      65      353    dark hero  1368150079"
      ],
      "text/html": [
       "<div>\n",
       "<style scoped>\n",
       "    .dataframe tbody tr th:only-of-type {\n",
       "        vertical-align: middle;\n",
       "    }\n",
       "\n",
       "    .dataframe tbody tr th {\n",
       "        vertical-align: top;\n",
       "    }\n",
       "\n",
       "    .dataframe thead th {\n",
       "        text-align: right;\n",
       "    }\n",
       "</style>\n",
       "<table border=\"1\" class=\"dataframe\">\n",
       "  <thead>\n",
       "    <tr style=\"text-align: right;\">\n",
       "      <th></th>\n",
       "      <th>userId</th>\n",
       "      <th>movieId</th>\n",
       "      <th>tag</th>\n",
       "      <th>timestamp</th>\n",
       "    </tr>\n",
       "  </thead>\n",
       "  <tbody>\n",
       "    <tr>\n",
       "      <th>0</th>\n",
       "      <td>18</td>\n",
       "      <td>4141</td>\n",
       "      <td>Mark Waters</td>\n",
       "      <td>1240597180</td>\n",
       "    </tr>\n",
       "    <tr>\n",
       "      <th>1</th>\n",
       "      <td>65</td>\n",
       "      <td>208</td>\n",
       "      <td>dark hero</td>\n",
       "      <td>1368150078</td>\n",
       "    </tr>\n",
       "    <tr>\n",
       "      <th>2</th>\n",
       "      <td>65</td>\n",
       "      <td>353</td>\n",
       "      <td>dark hero</td>\n",
       "      <td>1368150079</td>\n",
       "    </tr>\n",
       "  </tbody>\n",
       "</table>\n",
       "</div>"
      ]
     },
     "execution_count": 21,
     "metadata": {},
     "output_type": "execute_result"
    }
   ],
   "execution_count": 21
  },
  {
   "metadata": {
    "ExecuteTime": {
     "end_time": "2025-02-17T06:30:16.408790Z",
     "start_time": "2025-02-17T06:30:13.465507Z"
    }
   },
   "cell_type": "code",
   "source": [
    "# Droping the timestamp column from ratings and tags file\n",
    "ratings.drop(columns='timestamp',inplace=True)\n",
    "tags.drop(columns='timestamp',inplace=True)"
   ],
   "id": "449aebfc1545fea2",
   "outputs": [],
   "execution_count": 22
  },
  {
   "metadata": {
    "ExecuteTime": {
     "end_time": "2025-02-17T06:30:16.747287Z",
     "start_time": "2025-02-17T06:30:16.632273Z"
    }
   },
   "cell_type": "code",
   "source": [
    "all_categories = set(cat for sublist in movie['genres'].str.split(\"|\") for cat in sublist)\n",
    "print(all_categories)"
   ],
   "id": "2b74e3d27bea974",
   "outputs": [
    {
     "name": "stdout",
     "output_type": "stream",
     "text": [
      "{'Adventure', 'Fantasy', 'Horror', 'IMAX', 'Romance', 'Musical', 'Children', 'Documentary', 'Animation', 'Western', 'Crime', 'Mystery', 'Comedy', 'War', 'Sci-Fi', 'Thriller', 'Drama', '(no genres listed)', 'Action', 'Film-Noir'}\n"
     ]
    }
   ],
   "execution_count": 23
  },
  {
   "metadata": {
    "ExecuteTime": {
     "end_time": "2025-02-17T06:30:17.105332Z",
     "start_time": "2025-02-17T06:30:16.747680Z"
    }
   },
   "cell_type": "code",
   "source": [
    "for category in all_categories:\n",
    "    movie[category] = movie['genres'].apply(lambda x: 1 if category in x else 0)\n",
    "\n",
    "# Drop the original 'Categories' column\n",
    "movie = movie.drop('genres', axis=1)\n",
    "    "
   ],
   "id": "c8bf89319a917f39",
   "outputs": [],
   "execution_count": 24
  },
  {
   "metadata": {
    "ExecuteTime": {
     "end_time": "2025-02-17T06:30:18.359082Z",
     "start_time": "2025-02-17T06:30:17.109206Z"
    }
   },
   "cell_type": "code",
   "source": [
    "#Add a Column `rating` in movie DF and assign them with the Mean Movie Rating for that Movie.\n",
    "x=ratings.groupby('movieId').rating.mean()\n",
    "movie = pd.merge(movie,x,how='outer',on='movieId')\n",
    "movie['rating'].fillna('0',inplace=True)"
   ],
   "id": "374d7ac821330eaf",
   "outputs": [],
   "execution_count": 25
  },
  {
   "metadata": {
    "ExecuteTime": {
     "end_time": "2025-02-17T06:30:18.433085Z",
     "start_time": "2025-02-17T06:30:18.362459Z"
    }
   },
   "cell_type": "code",
   "source": "movie.head()",
   "id": "e47c98e7e9cc7128",
   "outputs": [
    {
     "data": {
      "text/plain": [
       "   movieId                               title  Adventure  Fantasy  Horror  \\\n",
       "0        1                    Toy Story (1995)          1        1       0   \n",
       "1        2                      Jumanji (1995)          1        1       0   \n",
       "2        3             Grumpier Old Men (1995)          0        0       0   \n",
       "3        4            Waiting to Exhale (1995)          0        0       0   \n",
       "4        5  Father of the Bride Part II (1995)          0        0       0   \n",
       "\n",
       "   IMAX  Romance  Musical  Children  Documentary  ...  Mystery  Comedy  War  \\\n",
       "0     0        0        0         1            0  ...        0       1    0   \n",
       "1     0        0        0         1            0  ...        0       0    0   \n",
       "2     0        1        0         0            0  ...        0       1    0   \n",
       "3     0        1        0         0            0  ...        0       1    0   \n",
       "4     0        0        0         0            0  ...        0       1    0   \n",
       "\n",
       "   Sci-Fi  Thriller  Drama  (no genres listed)  Action  Film-Noir    rating  \n",
       "0       0         0      0                   0       0          0   3.92124  \n",
       "1       0         0      0                   0       0          0  3.211977  \n",
       "2       0         0      0                   0       0          0   3.15104  \n",
       "3       0         0      1                   0       0          0  2.861393  \n",
       "4       0         0      0                   0       0          0  3.064592  \n",
       "\n",
       "[5 rows x 23 columns]"
      ],
      "text/html": [
       "<div>\n",
       "<style scoped>\n",
       "    .dataframe tbody tr th:only-of-type {\n",
       "        vertical-align: middle;\n",
       "    }\n",
       "\n",
       "    .dataframe tbody tr th {\n",
       "        vertical-align: top;\n",
       "    }\n",
       "\n",
       "    .dataframe thead th {\n",
       "        text-align: right;\n",
       "    }\n",
       "</style>\n",
       "<table border=\"1\" class=\"dataframe\">\n",
       "  <thead>\n",
       "    <tr style=\"text-align: right;\">\n",
       "      <th></th>\n",
       "      <th>movieId</th>\n",
       "      <th>title</th>\n",
       "      <th>Adventure</th>\n",
       "      <th>Fantasy</th>\n",
       "      <th>Horror</th>\n",
       "      <th>IMAX</th>\n",
       "      <th>Romance</th>\n",
       "      <th>Musical</th>\n",
       "      <th>Children</th>\n",
       "      <th>Documentary</th>\n",
       "      <th>...</th>\n",
       "      <th>Mystery</th>\n",
       "      <th>Comedy</th>\n",
       "      <th>War</th>\n",
       "      <th>Sci-Fi</th>\n",
       "      <th>Thriller</th>\n",
       "      <th>Drama</th>\n",
       "      <th>(no genres listed)</th>\n",
       "      <th>Action</th>\n",
       "      <th>Film-Noir</th>\n",
       "      <th>rating</th>\n",
       "    </tr>\n",
       "  </thead>\n",
       "  <tbody>\n",
       "    <tr>\n",
       "      <th>0</th>\n",
       "      <td>1</td>\n",
       "      <td>Toy Story (1995)</td>\n",
       "      <td>1</td>\n",
       "      <td>1</td>\n",
       "      <td>0</td>\n",
       "      <td>0</td>\n",
       "      <td>0</td>\n",
       "      <td>0</td>\n",
       "      <td>1</td>\n",
       "      <td>0</td>\n",
       "      <td>...</td>\n",
       "      <td>0</td>\n",
       "      <td>1</td>\n",
       "      <td>0</td>\n",
       "      <td>0</td>\n",
       "      <td>0</td>\n",
       "      <td>0</td>\n",
       "      <td>0</td>\n",
       "      <td>0</td>\n",
       "      <td>0</td>\n",
       "      <td>3.92124</td>\n",
       "    </tr>\n",
       "    <tr>\n",
       "      <th>1</th>\n",
       "      <td>2</td>\n",
       "      <td>Jumanji (1995)</td>\n",
       "      <td>1</td>\n",
       "      <td>1</td>\n",
       "      <td>0</td>\n",
       "      <td>0</td>\n",
       "      <td>0</td>\n",
       "      <td>0</td>\n",
       "      <td>1</td>\n",
       "      <td>0</td>\n",
       "      <td>...</td>\n",
       "      <td>0</td>\n",
       "      <td>0</td>\n",
       "      <td>0</td>\n",
       "      <td>0</td>\n",
       "      <td>0</td>\n",
       "      <td>0</td>\n",
       "      <td>0</td>\n",
       "      <td>0</td>\n",
       "      <td>0</td>\n",
       "      <td>3.211977</td>\n",
       "    </tr>\n",
       "    <tr>\n",
       "      <th>2</th>\n",
       "      <td>3</td>\n",
       "      <td>Grumpier Old Men (1995)</td>\n",
       "      <td>0</td>\n",
       "      <td>0</td>\n",
       "      <td>0</td>\n",
       "      <td>0</td>\n",
       "      <td>1</td>\n",
       "      <td>0</td>\n",
       "      <td>0</td>\n",
       "      <td>0</td>\n",
       "      <td>...</td>\n",
       "      <td>0</td>\n",
       "      <td>1</td>\n",
       "      <td>0</td>\n",
       "      <td>0</td>\n",
       "      <td>0</td>\n",
       "      <td>0</td>\n",
       "      <td>0</td>\n",
       "      <td>0</td>\n",
       "      <td>0</td>\n",
       "      <td>3.15104</td>\n",
       "    </tr>\n",
       "    <tr>\n",
       "      <th>3</th>\n",
       "      <td>4</td>\n",
       "      <td>Waiting to Exhale (1995)</td>\n",
       "      <td>0</td>\n",
       "      <td>0</td>\n",
       "      <td>0</td>\n",
       "      <td>0</td>\n",
       "      <td>1</td>\n",
       "      <td>0</td>\n",
       "      <td>0</td>\n",
       "      <td>0</td>\n",
       "      <td>...</td>\n",
       "      <td>0</td>\n",
       "      <td>1</td>\n",
       "      <td>0</td>\n",
       "      <td>0</td>\n",
       "      <td>0</td>\n",
       "      <td>1</td>\n",
       "      <td>0</td>\n",
       "      <td>0</td>\n",
       "      <td>0</td>\n",
       "      <td>2.861393</td>\n",
       "    </tr>\n",
       "    <tr>\n",
       "      <th>4</th>\n",
       "      <td>5</td>\n",
       "      <td>Father of the Bride Part II (1995)</td>\n",
       "      <td>0</td>\n",
       "      <td>0</td>\n",
       "      <td>0</td>\n",
       "      <td>0</td>\n",
       "      <td>0</td>\n",
       "      <td>0</td>\n",
       "      <td>0</td>\n",
       "      <td>0</td>\n",
       "      <td>...</td>\n",
       "      <td>0</td>\n",
       "      <td>1</td>\n",
       "      <td>0</td>\n",
       "      <td>0</td>\n",
       "      <td>0</td>\n",
       "      <td>0</td>\n",
       "      <td>0</td>\n",
       "      <td>0</td>\n",
       "      <td>0</td>\n",
       "      <td>3.064592</td>\n",
       "    </tr>\n",
       "  </tbody>\n",
       "</table>\n",
       "<p>5 rows × 23 columns</p>\n",
       "</div>"
      ]
     },
     "execution_count": 26,
     "metadata": {},
     "output_type": "execute_result"
    }
   ],
   "execution_count": 26
  },
  {
   "metadata": {
    "ExecuteTime": {
     "end_time": "2025-02-17T06:32:37.158620Z",
     "start_time": "2025-02-17T06:32:37.142255Z"
    }
   },
   "cell_type": "code",
   "source": [
    "#importing necessary packages for model prediction and evaluation\n",
    "import sklearn\n",
    "from sklearn.tree import DecisionTreeRegressor\n",
    "from sklearn.metrics import mean_absolute_error,mean_squared_error\n",
    "from sklearn.model_selection import train_test_split"
   ],
   "id": "9b7dff7f1e9b70e8",
   "outputs": [],
   "execution_count": 36
  },
  {
   "metadata": {
    "ExecuteTime": {
     "end_time": "2025-02-17T06:30:24.793045Z",
     "start_time": "2025-02-17T06:30:24.776540Z"
    }
   },
   "cell_type": "code",
   "source": "movie.columns",
   "id": "17d77b91018d58b5",
   "outputs": [
    {
     "data": {
      "text/plain": [
       "Index(['movieId', 'title', 'Adventure', 'Fantasy', 'Horror', 'IMAX', 'Romance',\n",
       "       'Musical', 'Children', 'Documentary', 'Animation', 'Western', 'Crime',\n",
       "       'Mystery', 'Comedy', 'War', 'Sci-Fi', 'Thriller', 'Drama',\n",
       "       '(no genres listed)', 'Action', 'Film-Noir', 'rating'],\n",
       "      dtype='object')"
      ]
     },
     "execution_count": 28,
     "metadata": {},
     "output_type": "execute_result"
    }
   ],
   "execution_count": 28
  },
  {
   "metadata": {
    "ExecuteTime": {
     "end_time": "2025-02-17T06:30:25.785589Z",
     "start_time": "2025-02-17T06:30:25.768103Z"
    }
   },
   "cell_type": "code",
   "source": [
    "#split the data into features and results\n",
    "X = movie[movie.columns[3:-1]]\n",
    "y = movie[movie.columns[-1]]"
   ],
   "id": "e2ed8b342e2d8dd3",
   "outputs": [],
   "execution_count": 29
  },
  {
   "metadata": {
    "ExecuteTime": {
     "end_time": "2025-02-17T06:30:28.239358Z",
     "start_time": "2025-02-17T06:30:28.111781Z"
    }
   },
   "cell_type": "code",
   "source": [
    "X_1 , X_test , y_1 , y_test = train_test_split(X ,y ,test_size=0.20 ,random_state = 1 ,shuffle = True)\n",
    "\n",
    "X_train , X_validation , y_train , y_validation = train_test_split(X_1 ,y_1 ,test_size=0.20 ,random_state = 1 ,shuffle = True)\n"
   ],
   "id": "11b770245528f71d",
   "outputs": [],
   "execution_count": 30
  },
  {
   "metadata": {
    "ExecuteTime": {
     "end_time": "2025-02-17T06:30:28.766781Z",
     "start_time": "2025-02-17T06:30:28.734715Z"
    }
   },
   "cell_type": "code",
   "source": "X_train.shape",
   "id": "2388c8f5be249233",
   "outputs": [
    {
     "data": {
      "text/plain": [
       "(17457, 19)"
      ]
     },
     "execution_count": 31,
     "metadata": {},
     "output_type": "execute_result"
    }
   ],
   "execution_count": 31
  },
  {
   "metadata": {
    "ExecuteTime": {
     "end_time": "2025-02-17T06:30:29.385750Z",
     "start_time": "2025-02-17T06:30:29.355122Z"
    }
   },
   "cell_type": "code",
   "source": "X_train.head()",
   "id": "f13d525eebe026fe",
   "outputs": [
    {
     "data": {
      "text/plain": [
       "       Fantasy  Horror  IMAX  Romance  Musical  Children  Documentary  \\\n",
       "359          0       0     0        0        0         0            1   \n",
       "17425        0       0     1        0        0         1            0   \n",
       "5307         0       0     0        1        0         0            0   \n",
       "5990         0       0     0        0        0         0            0   \n",
       "7787         0       0     0        0        0         0            0   \n",
       "\n",
       "       Animation  Western  Crime  Mystery  Comedy  War  Sci-Fi  Thriller  \\\n",
       "359            0        0      0        0       0    0       0         0   \n",
       "17425          1        0      0        0       1    0       0         0   \n",
       "5307           0        0      0        0       0    0       0         0   \n",
       "5990           0        0      1        0       1    0       0         0   \n",
       "7787           0        0      1        0       1    0       0         0   \n",
       "\n",
       "       Drama  (no genres listed)  Action  Film-Noir  \n",
       "359        0                   0       0          0  \n",
       "17425      0                   0       0          0  \n",
       "5307       1                   0       0          0  \n",
       "5990       0                   0       0          0  \n",
       "7787       0                   0       0          0  "
      ],
      "text/html": [
       "<div>\n",
       "<style scoped>\n",
       "    .dataframe tbody tr th:only-of-type {\n",
       "        vertical-align: middle;\n",
       "    }\n",
       "\n",
       "    .dataframe tbody tr th {\n",
       "        vertical-align: top;\n",
       "    }\n",
       "\n",
       "    .dataframe thead th {\n",
       "        text-align: right;\n",
       "    }\n",
       "</style>\n",
       "<table border=\"1\" class=\"dataframe\">\n",
       "  <thead>\n",
       "    <tr style=\"text-align: right;\">\n",
       "      <th></th>\n",
       "      <th>Fantasy</th>\n",
       "      <th>Horror</th>\n",
       "      <th>IMAX</th>\n",
       "      <th>Romance</th>\n",
       "      <th>Musical</th>\n",
       "      <th>Children</th>\n",
       "      <th>Documentary</th>\n",
       "      <th>Animation</th>\n",
       "      <th>Western</th>\n",
       "      <th>Crime</th>\n",
       "      <th>Mystery</th>\n",
       "      <th>Comedy</th>\n",
       "      <th>War</th>\n",
       "      <th>Sci-Fi</th>\n",
       "      <th>Thriller</th>\n",
       "      <th>Drama</th>\n",
       "      <th>(no genres listed)</th>\n",
       "      <th>Action</th>\n",
       "      <th>Film-Noir</th>\n",
       "    </tr>\n",
       "  </thead>\n",
       "  <tbody>\n",
       "    <tr>\n",
       "      <th>359</th>\n",
       "      <td>0</td>\n",
       "      <td>0</td>\n",
       "      <td>0</td>\n",
       "      <td>0</td>\n",
       "      <td>0</td>\n",
       "      <td>0</td>\n",
       "      <td>1</td>\n",
       "      <td>0</td>\n",
       "      <td>0</td>\n",
       "      <td>0</td>\n",
       "      <td>0</td>\n",
       "      <td>0</td>\n",
       "      <td>0</td>\n",
       "      <td>0</td>\n",
       "      <td>0</td>\n",
       "      <td>0</td>\n",
       "      <td>0</td>\n",
       "      <td>0</td>\n",
       "      <td>0</td>\n",
       "    </tr>\n",
       "    <tr>\n",
       "      <th>17425</th>\n",
       "      <td>0</td>\n",
       "      <td>0</td>\n",
       "      <td>1</td>\n",
       "      <td>0</td>\n",
       "      <td>0</td>\n",
       "      <td>1</td>\n",
       "      <td>0</td>\n",
       "      <td>1</td>\n",
       "      <td>0</td>\n",
       "      <td>0</td>\n",
       "      <td>0</td>\n",
       "      <td>1</td>\n",
       "      <td>0</td>\n",
       "      <td>0</td>\n",
       "      <td>0</td>\n",
       "      <td>0</td>\n",
       "      <td>0</td>\n",
       "      <td>0</td>\n",
       "      <td>0</td>\n",
       "    </tr>\n",
       "    <tr>\n",
       "      <th>5307</th>\n",
       "      <td>0</td>\n",
       "      <td>0</td>\n",
       "      <td>0</td>\n",
       "      <td>1</td>\n",
       "      <td>0</td>\n",
       "      <td>0</td>\n",
       "      <td>0</td>\n",
       "      <td>0</td>\n",
       "      <td>0</td>\n",
       "      <td>0</td>\n",
       "      <td>0</td>\n",
       "      <td>0</td>\n",
       "      <td>0</td>\n",
       "      <td>0</td>\n",
       "      <td>0</td>\n",
       "      <td>1</td>\n",
       "      <td>0</td>\n",
       "      <td>0</td>\n",
       "      <td>0</td>\n",
       "    </tr>\n",
       "    <tr>\n",
       "      <th>5990</th>\n",
       "      <td>0</td>\n",
       "      <td>0</td>\n",
       "      <td>0</td>\n",
       "      <td>0</td>\n",
       "      <td>0</td>\n",
       "      <td>0</td>\n",
       "      <td>0</td>\n",
       "      <td>0</td>\n",
       "      <td>0</td>\n",
       "      <td>1</td>\n",
       "      <td>0</td>\n",
       "      <td>1</td>\n",
       "      <td>0</td>\n",
       "      <td>0</td>\n",
       "      <td>0</td>\n",
       "      <td>0</td>\n",
       "      <td>0</td>\n",
       "      <td>0</td>\n",
       "      <td>0</td>\n",
       "    </tr>\n",
       "    <tr>\n",
       "      <th>7787</th>\n",
       "      <td>0</td>\n",
       "      <td>0</td>\n",
       "      <td>0</td>\n",
       "      <td>0</td>\n",
       "      <td>0</td>\n",
       "      <td>0</td>\n",
       "      <td>0</td>\n",
       "      <td>0</td>\n",
       "      <td>0</td>\n",
       "      <td>1</td>\n",
       "      <td>0</td>\n",
       "      <td>1</td>\n",
       "      <td>0</td>\n",
       "      <td>0</td>\n",
       "      <td>0</td>\n",
       "      <td>0</td>\n",
       "      <td>0</td>\n",
       "      <td>0</td>\n",
       "      <td>0</td>\n",
       "    </tr>\n",
       "  </tbody>\n",
       "</table>\n",
       "</div>"
      ]
     },
     "execution_count": 32,
     "metadata": {},
     "output_type": "execute_result"
    }
   ],
   "execution_count": 32
  },
  {
   "metadata": {
    "ExecuteTime": {
     "end_time": "2025-02-17T06:32:41.722769Z",
     "start_time": "2025-02-17T06:32:41.656829Z"
    }
   },
   "cell_type": "code",
   "source": [
    "model = DecisionTreeRegressor(max_depth=10,random_state=42)\n",
    "model.fit(X_train,y_train)\n",
    "print(mean_squared_error(model.predict(X_train),y_train))"
   ],
   "id": "6918d192a4b83a5a",
   "outputs": [
    {
     "name": "stdout",
     "output_type": "stream",
     "text": [
      "0.549296099310675\n"
     ]
    }
   ],
   "execution_count": 37
  },
  {
   "metadata": {
    "ExecuteTime": {
     "end_time": "2025-02-17T06:32:43.202046Z",
     "start_time": "2025-02-17T06:32:42.885621Z"
    }
   },
   "cell_type": "code",
   "source": [
    "tree_params = {'max_depth':[3,5,10]}\n",
    "DTCG = GridSearchCV(DecisionTreeRegressor(random_state=42), tree_params, cv=5)\n",
    "DTCG.fit(X_1,y_1)\n",
    "DTC=DTCG.best_estimator_\n",
    "score=DTCG.best_score_\n",
    "print(score)"
   ],
   "id": "e52314a49d8d36dc",
   "outputs": [
    {
     "name": "stdout",
     "output_type": "stream",
     "text": [
      "0.06068867708598267\n"
     ]
    }
   ],
   "execution_count": 38
  },
  {
   "metadata": {
    "ExecuteTime": {
     "end_time": "2025-02-17T06:32:44.333423Z",
     "start_time": "2025-02-17T06:32:44.307276Z"
    }
   },
   "cell_type": "code",
   "source": "mean_squared_error(DTC.predict(X_test),y_test)",
   "id": "aa5577d34fdb231c",
   "outputs": [
    {
     "data": {
      "text/plain": [
       "0.5717914257637114"
      ]
     },
     "execution_count": 39,
     "metadata": {},
     "output_type": "execute_result"
    }
   ],
   "execution_count": 39
  },
  {
   "metadata": {},
   "cell_type": "code",
   "outputs": [],
   "execution_count": null,
   "source": "",
   "id": "840611aff2876be8"
  }
 ],
 "metadata": {
  "kernelspec": {
   "display_name": "Python 3",
   "language": "python",
   "name": "python3"
  },
  "language_info": {
   "codemirror_mode": {
    "name": "ipython",
    "version": 2
   },
   "file_extension": ".py",
   "mimetype": "text/x-python",
   "name": "python",
   "nbconvert_exporter": "python",
   "pygments_lexer": "ipython2",
   "version": "2.7.6"
  }
 },
 "nbformat": 4,
 "nbformat_minor": 5
}
